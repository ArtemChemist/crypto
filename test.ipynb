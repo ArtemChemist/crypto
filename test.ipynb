{
 "cells": [
  {
   "cell_type": "code",
   "execution_count": 1,
   "metadata": {},
   "outputs": [
    {
     "name": "stderr",
     "output_type": "stream",
     "text": [
      "C:\\Users\\Artem\\AppData\\Local\\Temp\\ipykernel_28240\\266322298.py:1: DeprecationWarning: \n",
      "Pyarrow will become a required dependency of pandas in the next major release of pandas (pandas 3.0),\n",
      "(to allow more performant data types, such as the Arrow string type, and better interoperability with other libraries)\n",
      "but was not found to be installed on your system.\n",
      "If this would cause problems for you,\n",
      "please provide us feedback at https://github.com/pandas-dev/pandas/issues/54466\n",
      "        \n",
      "  import pandas as pd\n"
     ]
    }
   ],
   "source": [
    "import pandas as pd\n",
    "from datetime import date\n",
    "import cbpro\n",
    "import numpy as np\n",
    "\n",
    "import matplotlib.pyplot as plt\n",
    "\n",
    "from portfolio import Asset"
   ]
  },
  {
   "cell_type": "code",
   "execution_count": 2,
   "metadata": {},
   "outputs": [],
   "source": [
    "with open('CoinBaseAPIKey.key', 'r') as f:\n",
    "    contents = f.readlines()\n",
    "cb_key = contents[0].split(':')[-1].strip()\n",
    "cb_secret = contents[1].split(':')[-1].strip()"
   ]
  },
  {
   "cell_type": "code",
   "execution_count": 3,
   "metadata": {},
   "outputs": [],
   "source": [
    "#Download data\n",
    "public_client = cbpro.PublicClient()\n",
    "slots = [('2023-01-01', '2023-06-01'), ('2022-07-01', '2022-12-31'), ('2022-01-01', '2022-06-30'), ('2023-06-02', '2023-12-01')]\n",
    "BTC = Asset('BTC')\n",
    "ETH = Asset('ETH')\n",
    "USDT = Asset('USDT')\n",
    "\n",
    "for slot in slots:\n",
    "    BTC_USD = public_client.get_product_historic_rates('BTC-USD', slot[0], slot[1], 86400)\n",
    "    ETH_USD = public_client.get_product_historic_rates('ETH-USD', slot[0], slot[1], 86400)\n",
    "    USDT_USD = public_client.get_product_historic_rates('USDT-USD', slot[0], slot[1], 86400)\n",
    "    btc_data= pd.DataFrame(BTC_USD)\n",
    "    btc_data.columns = [ 'date_time', 'low', 'high', 'open', 'close', 'volume' ]\n",
    "    btc_data['date_time']= btc_data['date_time'].apply(lambda x: date.fromtimestamp(x))\n",
    "    BTC.update_history(btc_data)\n",
    "\n",
    "    ETH_data= pd.DataFrame(ETH_USD)\n",
    "    ETH_data.columns = [ 'date_time', 'low', 'high', 'open', 'close', 'volume' ]\n",
    "    ETH_data['date_time']= ETH_data['date_time'].apply(lambda x: date.fromtimestamp(x))\n",
    "    ETH.update_history(ETH_data)\n",
    "\n",
    "    USDT_data= pd.DataFrame(USDT_USD)\n",
    "    USDT_data.columns = [ 'date_time', 'low', 'high', 'open', 'close', 'volume' ]\n",
    "    USDT_data['date_time']= USDT_data['date_time'].apply(lambda x: date.fromtimestamp(x))\n",
    "    USDT.update_history(USDT_data)"
   ]
  },
  {
   "cell_type": "code",
   "execution_count": null,
   "metadata": {},
   "outputs": [],
   "source": [
    "class Portfolio:\n",
    "    def __init__(self):\n",
    "        idx  = pd.MultiIndex(levels=[[],[]],\n",
    "                          codes=[[],[]],\n",
    "                          names=[u'date_time', u'ticker'])\n",
    "        my_columns = [u'change', u'note']\n",
    "        self.transactions  = pd.DataFrame(index=idx, columns=my_columns)\n",
    "        self.value = pd.DataFrame(columns = ['date_time', 'value'], index = pd.Index([], name='date_time'))\n",
    "\n",
    "\n",
    "    def update_transactions(self, ticker:str, qty:float, transaction_date = date.today(), note = ''):\n",
    "        self.transactions.loc[(transaction_date,ticker,),:] = [qty, note]\n",
    "\n",
    "    def get_positions(self, on_date = date.today()):\n",
    "        time_mask = (self.transactions['date_time'] <= on_date)\n",
    "        positions = self.transactions[time_mask][['ticker', 'change']]\\\n",
    "                        .groupby(['ticker'])\\\n",
    "                        .agg({'change':'sum'})\\\n",
    "                        .reset_index()\n",
    "        positions.columns = ['ticker', 'position_size']\n",
    "        positions['ticker'] = positions['ticker'].astype(str)\n",
    "        positions['position_value'] = positions['ticker'].apply(\n",
    "                                                lambda x: Asset.asset_dict[x].price_on_date(on_date)\n",
    "                                                )\n",
    "        positions['position_value'] = positions['position_value']*positions['position_size']\n",
    "        return positions\n",
    "\n",
    "    def get_value(self, on_date = date.today()):\n",
    "        self.update_value()\n",
    "        mask = (self.value['date_time'] == on_date)\n",
    "        return self.value[mask]['value']\n",
    "    \n",
    "    def update_value(self):\n",
    "        self.value.drop(self.value.index, inplace=True)\n",
    "        #generate a list of dates to update\n",
    "        date_to_add = date.fromisoformat('2023-11-30')\n",
    "        oldest_transaction = min(self.transactions['date_time'])\n",
    "        while date_to_add >= oldest_transaction:\n",
    "            composition_at_date = self.get_positions(date_to_add)\n",
    "            value_to_add = composition_at_date.position_value.sum()\n",
    "            df_to_add = pd.DataFrame({'value': value_to_add, 'date_time': date_to_add}, index=[0])\n",
    "            self.value = pd.concat([self.value, df_to_add], ignore_index=True)\n",
    "            date_to_add = date_to_add - timedelta(days=1)"
   ]
  },
  {
   "cell_type": "markdown",
   "metadata": {},
   "source": []
  },
  {
   "cell_type": "code",
   "execution_count": 4,
   "metadata": {},
   "outputs": [],
   "source": [
    "my_portfolio = Portfolio()\n",
    "my_portfolio.do_transaction(ticker='BTC', qty=1, transaction_date=date.fromisoformat('2022-01-01'))\n",
    "my_portfolio.do_transaction(ticker='USDT', qty=40000, transaction_date=date.fromisoformat('2022-01-01'))"
   ]
  },
  {
   "cell_type": "code",
   "execution_count": 43,
   "metadata": {},
   "outputs": [
    {
     "data": {
      "text/html": [
       "<div>\n",
       "<style scoped>\n",
       "    .dataframe tbody tr th:only-of-type {\n",
       "        vertical-align: middle;\n",
       "    }\n",
       "\n",
       "    .dataframe tbody tr th {\n",
       "        vertical-align: top;\n",
       "    }\n",
       "\n",
       "    .dataframe thead th {\n",
       "        text-align: right;\n",
       "    }\n",
       "</style>\n",
       "<table border=\"1\" class=\"dataframe\">\n",
       "  <thead>\n",
       "    <tr style=\"text-align: right;\">\n",
       "      <th></th>\n",
       "      <th></th>\n",
       "      <th>change</th>\n",
       "      <th>note</th>\n",
       "    </tr>\n",
       "    <tr>\n",
       "      <th>date_time</th>\n",
       "      <th>ticker</th>\n",
       "      <th></th>\n",
       "      <th></th>\n",
       "    </tr>\n",
       "  </thead>\n",
       "  <tbody>\n",
       "  </tbody>\n",
       "</table>\n",
       "</div>"
      ],
      "text/plain": [
       "Empty DataFrame\n",
       "Columns: [change, note]\n",
       "Index: []"
      ]
     },
     "execution_count": 43,
     "metadata": {},
     "output_type": "execute_result"
    }
   ],
   "source": []
  },
  {
   "cell_type": "code",
   "execution_count": 51,
   "metadata": {},
   "outputs": [
    {
     "data": {
      "text/html": [
       "<div>\n",
       "<style scoped>\n",
       "    .dataframe tbody tr th:only-of-type {\n",
       "        vertical-align: middle;\n",
       "    }\n",
       "\n",
       "    .dataframe tbody tr th {\n",
       "        vertical-align: top;\n",
       "    }\n",
       "\n",
       "    .dataframe thead th {\n",
       "        text-align: right;\n",
       "    }\n",
       "</style>\n",
       "<table border=\"1\" class=\"dataframe\">\n",
       "  <thead>\n",
       "    <tr style=\"text-align: right;\">\n",
       "      <th></th>\n",
       "      <th></th>\n",
       "      <th>change</th>\n",
       "      <th>note</th>\n",
       "    </tr>\n",
       "    <tr>\n",
       "      <th>date_time</th>\n",
       "      <th>ticker</th>\n",
       "      <th></th>\n",
       "      <th></th>\n",
       "    </tr>\n",
       "  </thead>\n",
       "  <tbody>\n",
       "    <tr>\n",
       "      <th>2024-04-18</th>\n",
       "      <th>ASD</th>\n",
       "      <td>1</td>\n",
       "      <td>qwe</td>\n",
       "    </tr>\n",
       "  </tbody>\n",
       "</table>\n",
       "</div>"
      ],
      "text/plain": [
       "                  change note\n",
       "date_time  ticker            \n",
       "2024-04-18 ASD         1  qwe"
      ]
     },
     "execution_count": 51,
     "metadata": {},
     "output_type": "execute_result"
    }
   ],
   "source": [
    "\n",
    "transactions\n"
   ]
  },
  {
   "cell_type": "code",
   "execution_count": null,
   "metadata": {},
   "outputs": [],
   "source": []
  }
 ],
 "metadata": {
  "kernelspec": {
   "display_name": "crypto",
   "language": "python",
   "name": "python3"
  },
  "language_info": {
   "codemirror_mode": {
    "name": "ipython",
    "version": 3
   },
   "file_extension": ".py",
   "mimetype": "text/x-python",
   "name": "python",
   "nbconvert_exporter": "python",
   "pygments_lexer": "ipython3",
   "version": "3.9.15"
  }
 },
 "nbformat": 4,
 "nbformat_minor": 2
}
