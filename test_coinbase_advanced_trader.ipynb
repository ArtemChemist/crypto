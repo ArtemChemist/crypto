{
 "cells": [
  {
   "cell_type": "code",
   "execution_count": 1,
   "metadata": {},
   "outputs": [],
   "source": [
    "from portfolio import Portfolio\n",
    "from asset import Asset\n",
    "from pandas import Timestamp as tmpstemp\n",
    "from pandas import Timedelta as tmpdelta\n",
    "import pandas as pd\n",
    "import os\n",
    "from coinbase.rest import RESTClient\n",
    "import json"
   ]
  },
  {
   "cell_type": "code",
   "execution_count": 2,
   "metadata": {},
   "outputs": [],
   "source": [
    "os.environ['MY_ENVIRONMENT'] = 'prod'\n",
    "if 'API_KEY' in os.environ:\n",
    "    client = RESTClient(api_key = os.environ['API_KEY'], api_secret=os.environ['API_SECRET'])\n",
    "else:\n",
    "    try:\n",
    "        with open('coinbase_cloud_api_key.json') as f:\n",
    "            d = json.load(f)\n",
    "        os.environ['API_KEY'] =d['name']\n",
    "        os.environ['API_SECRET'] = d['privateKey']\n",
    "        client = RESTClient(api_key = os.environ['API_KEY'], api_secret=os.environ['API_SECRET'])\n",
    "    except:\n",
    "        print('Can not find keys')"
   ]
  },
  {
   "cell_type": "code",
   "execution_count": 5,
   "metadata": {},
   "outputs": [],
   "source": [
    "tickers = ['BTC', 'ETH']\n",
    "accounts = {}\n",
    "for account in client.get_accounts()['accounts']:\n",
    "    accounts[account['name'].split(' ')[0]] = float(account['available_balance']['value'])\n",
    "positions = {account[0]:account[1] for account in accounts.items() if account[0] in tickers}\n"
   ]
  },
  {
   "cell_type": "code",
   "execution_count": 7,
   "metadata": {},
   "outputs": [
    {
     "data": {
      "text/plain": [
       "0.01109029"
      ]
     },
     "execution_count": 7,
     "metadata": {},
     "output_type": "execute_result"
    }
   ],
   "source": [
    "positions['BTC']"
   ]
  },
  {
   "cell_type": "code",
   "execution_count": 2,
   "metadata": {},
   "outputs": [
    {
     "name": "stdout",
     "output_type": "stream",
     "text": [
      "USDT: 40.0%\n",
      "BTC: 39.0%\n",
      "ETH: 19.0%\n"
     ]
    }
   ],
   "source": [
    "\n",
    "positions = pd.DataFrame(columns = ['position_size'], data = positions.values(), index = pd.Index(positions.keys(), name = 'ticker'))\n",
    "positions['position_value'] = positions.index.to_series().apply(lambda x: self.get_spot(x) if positions['position_size'].loc[x]>0 else 0)  #\n",
    "positions['position_value'] = positions['position_value']*positions['position_size']\n",
    "total_value = positions['position_value'].sum()\n",
    "try:\n",
    "    positions['allocation'] = positions['position_value']/total_value\n",
    "except Exception:\n",
    "    print('Error occured')\n",
    "    pass\n",
    "\n"
   ]
  },
  {
   "cell_type": "code",
   "execution_count": null,
   "metadata": {},
   "outputs": [],
   "source": []
  }
 ],
 "metadata": {
  "kernelspec": {
   "display_name": "crypto",
   "language": "python",
   "name": "python3"
  },
  "language_info": {
   "codemirror_mode": {
    "name": "ipython",
    "version": 3
   },
   "file_extension": ".py",
   "mimetype": "text/x-python",
   "name": "python",
   "nbconvert_exporter": "python",
   "pygments_lexer": "ipython3",
   "version": "3.10.10"
  }
 },
 "nbformat": 4,
 "nbformat_minor": 2
}
