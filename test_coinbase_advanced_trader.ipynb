{
 "cells": [
  {
   "cell_type": "code",
   "execution_count": 2,
   "metadata": {},
   "outputs": [],
   "source": [
    "from portfolio import Portfolio\n",
    "from asset import Asset\n",
    "from pandas import Timestamp as tmpstemp\n",
    "from pandas import Timedelta as tmpdelta\n",
    "import pandas as pd\n",
    "import os\n",
    "from coinbase.rest import RESTClient\n",
    "import json\n",
    "import uuid"
   ]
  },
  {
   "cell_type": "code",
   "execution_count": 3,
   "metadata": {},
   "outputs": [],
   "source": [
    "os.environ['MY_ENVIRONMENT'] = 'prod'\n",
    "if 'API_KEY' in os.environ:\n",
    "    client = RESTClient(api_key = os.environ['API_KEY'], api_secret=os.environ['API_SECRET'])\n",
    "else:\n",
    "    try:\n",
    "        with open('coinbase_cloud_api_key.json') as f:\n",
    "            d = json.load(f)\n",
    "        os.environ['API_KEY'] =d['name']\n",
    "        os.environ['API_SECRET'] = d['privateKey']\n",
    "        client = RESTClient(api_key = os.environ['API_KEY'], api_secret=os.environ['API_SECRET'])\n",
    "    except:\n",
    "        print('Can not find keys')"
   ]
  },
  {
   "cell_type": "code",
   "execution_count": 4,
   "metadata": {},
   "outputs": [],
   "source": [
    "BTC = Asset('BTC')\n",
    "ETH = Asset('ETH')\n",
    "USDT = Asset('USDT')\n",
    "rebal_portfolio = Portfolio({'BTC':0, 'ETH':0, 'USDT':0})"
   ]
  },
  {
   "cell_type": "code",
   "execution_count": 7,
   "metadata": {},
   "outputs": [
    {
     "name": "stdout",
     "output_type": "stream",
     "text": [
      "Buy 15 of ETH-USDT and  drop whatever, id is 93bf9f33-b33c-4181-8b17-1a72bc10c551\n",
      "{'fills': [], 'cursor': ''}\n"
     ]
    }
   ],
   "source": [
    "order_id = str(uuid.uuid4())\n",
    "trans_type = 'BUY'\n",
    "base_size = 0.01\n",
    "quote_size = 15\n",
    "trade_pair = 'ETH-USDT'\n",
    "to_drop = 'whatever'\n",
    "if trans_type  == 'SELL':\n",
    "    print(f'Sell {base_size} of {trade_pair} and  drop {to_drop}, id is {order_id }')\n",
    "\n",
    "    order = client.market_order_sell(\n",
    "            client_order_id=order_id,\n",
    "            product_id=trade_pair,\n",
    "                base_size=str(base_size)\n",
    "            )\n",
    "    fills = client.get_fills(order_id=order_id)\n",
    "    print(fills)\n",
    "else:\n",
    "    print(f'Buy {quote_size} of {trade_pair} and  drop {to_drop}, id is {order_id }')\n",
    "\n",
    "    order = client.market_order_buy(\n",
    "            client_order_id=order_id,\n",
    "            product_id=trade_pair,\n",
    "                quote_size=str(quote_size)\n",
    "            )\n",
    "    fills = client.get_fills(order_id=order_id)\n",
    "    print(fills)"
   ]
  },
  {
   "cell_type": "code",
   "execution_count": 8,
   "metadata": {},
   "outputs": [
    {
     "name": "stdout",
     "output_type": "stream",
     "text": [
      "BTC: 39.6%\n",
      "ETH: 19.9%\n",
      "USDT: 40.5%\n"
     ]
    }
   ],
   "source": [
    "positions = rebal_portfolio.get_current_postions()\n",
    "for ticker in positions.index:\n",
    "    alloc = positions['allocation'].loc[ticker] *100\n",
    "    print(f\"{ticker}: {round(alloc,1)}%\")"
   ]
  },
  {
   "cell_type": "code",
   "execution_count": 6,
   "metadata": {},
   "outputs": [
    {
     "data": {
      "text/plain": [
       "{'product_id': 'ETH-BTC',\n",
       " 'price': '0.05397',\n",
       " 'price_percentage_change_24h': '4.35034802784223',\n",
       " 'volume_24h': '23830.67382887',\n",
       " 'volume_percentage_change_24h': '-19.97788715157643',\n",
       " 'base_increment': '0.00000001',\n",
       " 'quote_increment': '0.00001',\n",
       " 'quote_min_size': '0.00001',\n",
       " 'quote_max_size': '200',\n",
       " 'base_min_size': '0.00000001',\n",
       " 'base_max_size': '6100',\n",
       " 'base_name': 'Ethereum',\n",
       " 'quote_name': 'Bitcoin',\n",
       " 'watched': False,\n",
       " 'is_disabled': False,\n",
       " 'new': False,\n",
       " 'status': 'online',\n",
       " 'cancel_only': False,\n",
       " 'limit_only': False,\n",
       " 'post_only': False,\n",
       " 'trading_disabled': False,\n",
       " 'auction_mode': False,\n",
       " 'product_type': 'SPOT',\n",
       " 'quote_currency_id': 'BTC',\n",
       " 'base_currency_id': 'ETH',\n",
       " 'fcm_trading_session_details': None,\n",
       " 'mid_market_price': '',\n",
       " 'alias': '',\n",
       " 'alias_to': [],\n",
       " 'base_display_symbol': 'ETH',\n",
       " 'quote_display_symbol': 'BTC',\n",
       " 'view_only': False,\n",
       " 'price_increment': '0.00001',\n",
       " 'display_name': 'ETH-BTC',\n",
       " 'product_venue': 'CBE',\n",
       " 'approximate_quote_24h_volume': '1286.14147'}"
      ]
     },
     "execution_count": 6,
     "metadata": {},
     "output_type": "execute_result"
    }
   ],
   "source": [
    "client.get_product('ETH-BTC')"
   ]
  },
  {
   "cell_type": "code",
   "execution_count": null,
   "metadata": {},
   "outputs": [],
   "source": []
  }
 ],
 "metadata": {
  "kernelspec": {
   "display_name": "crypto",
   "language": "python",
   "name": "python3"
  },
  "language_info": {
   "codemirror_mode": {
    "name": "ipython",
    "version": 3
   },
   "file_extension": ".py",
   "mimetype": "text/x-python",
   "name": "python",
   "nbconvert_exporter": "python",
   "pygments_lexer": "ipython3",
   "version": "3.10.10"
  }
 },
 "nbformat": 4,
 "nbformat_minor": 2
}
