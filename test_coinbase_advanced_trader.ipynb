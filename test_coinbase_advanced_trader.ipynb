{
 "cells": [
  {
   "cell_type": "code",
   "execution_count": 1,
   "metadata": {},
   "outputs": [],
   "source": [
    "from portfolio import Asset, Portfolio\n",
    "from pandas import Timestamp as tmpstemp\n",
    "from pandas import Timedelta as tmpdelta\n",
    "import pandas as pd\n",
    "import os\n",
    "from coinbase.rest import RESTClient\n",
    "import json"
   ]
  },
  {
   "cell_type": "code",
   "execution_count": 2,
   "metadata": {},
   "outputs": [
    {
     "name": "stdout",
     "output_type": "stream",
     "text": [
      "USDT: 40.0%\n",
      "BTC: 39.0%\n",
      "ETH: 19.0%\n"
     ]
    }
   ],
   "source": [
    "mp = Portfolio()\n",
    "positions = mp.get_current_postions()\n",
    "for ticker in positions.index:\n",
    "    alloc = positions['allocation'].loc[ticker]*100//1\n",
    "    if alloc >0:\n",
    "        print(f\"{ticker}: {alloc}%\")\n",
    "\n"
   ]
  },
  {
   "cell_type": "code",
   "execution_count": null,
   "metadata": {},
   "outputs": [],
   "source": []
  }
 ],
 "metadata": {
  "kernelspec": {
   "display_name": "crypto",
   "language": "python",
   "name": "python3"
  },
  "language_info": {
   "codemirror_mode": {
    "name": "ipython",
    "version": 3
   },
   "file_extension": ".py",
   "mimetype": "text/x-python",
   "name": "python",
   "nbconvert_exporter": "python",
   "pygments_lexer": "ipython3",
   "version": "3.10.10"
  }
 },
 "nbformat": 4,
 "nbformat_minor": 2
}
