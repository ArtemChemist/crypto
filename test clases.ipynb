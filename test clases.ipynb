{
 "cells": [
  {
   "cell_type": "code",
   "execution_count": 1,
   "metadata": {},
   "outputs": [
    {
     "name": "stderr",
     "output_type": "stream",
     "text": [
      "C:\\Users\\Artem\\AppData\\Local\\Temp\\ipykernel_8184\\3385269794.py:1: DeprecationWarning: \n",
      "Pyarrow will become a required dependency of pandas in the next major release of pandas (pandas 3.0),\n",
      "(to allow more performant data types, such as the Arrow string type, and better interoperability with other libraries)\n",
      "but was not found to be installed on your system.\n",
      "If this would cause problems for you,\n",
      "please provide us feedback at https://github.com/pandas-dev/pandas/issues/54466\n",
      "        \n",
      "  import pandas as pd\n"
     ]
    }
   ],
   "source": [
    "import pandas as pd\n",
    "from pandas import Timestamp as tmpstemp\n",
    "from pandas import Timedelta as tmpdelta\n",
    "import numpy as np\n",
    "\n",
    "from sklearn.preprocessing import MinMaxScaler\n",
    "from tensorflow import keras\n",
    "from keras.layers import Dense, Dropout, LSTM, Input\n",
    "from keras.models import Model\n",
    "from keras.optimizers import Adam\n",
    "from keras.callbacks import EarlyStopping\n",
    "\n",
    "import matplotlib.pyplot as plt\n",
    "\n",
    "from portfolio import Portfolio, Asset\n",
    "\n",
    "import warnings\n",
    "warnings.simplefilter(action='ignore', category=FutureWarning)"
   ]
  },
  {
   "cell_type": "code",
   "execution_count": 2,
   "metadata": {},
   "outputs": [],
   "source": [
    "USD = Asset.make_USD()\n",
    "BTC = Asset('BTC')\n",
    "#BTC.update_history_from_excahnge(currency = 'USD', date_from = tmpstemp('2020-01-01'), date_to = tmpstemp('2024-03-31'))\n",
    "ETH = Asset('ETH')\n",
    "#ETH.update_history_from_excahnge(currency = 'USD', date_from = tmpstemp('2020-01-01'), date_to = tmpstemp('2024-03-31'))\n",
    "USDT = Asset('USDT')\n",
    "#USDT.update_history_from_excahnge(currency = 'USD', date_from = tmpstemp('2021-01-01'), date_to = tmpstemp('2024-03-31'))"
   ]
  },
  {
   "cell_type": "code",
   "execution_count": 3,
   "metadata": {},
   "outputs": [],
   "source": [
    "class Strategy:\n",
    "\n",
    "    def __init__(self, model_input_length = 15):\n",
    "        self.frequency = 1\n",
    "        self.model = Model()\n",
    "        self.input_span = model_input_length\n",
    "        self.scaler = MinMaxScaler(feature_range=(0,1))\n",
    "\n",
    "    def make_suggestion(self, today, portfolio):\n",
    "        risk_rate = 0.02\n",
    "        fee_rate = 0.006\n",
    "        \n",
    "        positions = portfolio.get_positions(today)\n",
    "        suggestions = pd.DataFrame(columns = ['change_in_size', 'USD_value', 'note'], index = positions.index)\n",
    "        data_to_process = BTC.history['close'].loc[today-tmpdelta(days=self.input_span-1):today+tmpdelta(days=1)]\n",
    "        prediction = self.predict_one(data_to_process)\n",
    "        prediction = float(prediction['Predicted price'])\n",
    "        print(prediction)\n",
    "\n",
    "        # If BTC is predicted to go up - buy it\n",
    "        if prediction > float(BTC.price_on_date(today)):\n",
    "            USD_to_spend = risk_rate * positions['position_value'].loc['USD']  # In this strategy, we change position by risk_rate% on every step\n",
    "            ext_price = USD_to_spend/(1 + fee_rate)                    # This is how much will be paid for BTC, extended price\n",
    "            fees = USD_to_spend - ext_price                            # This is plaform fees\n",
    "            BTC_price = BTC.history['close'].loc[today]                # BTC price at the time of decision\n",
    "            BTC_to_buy = ext_price/BTC_price\n",
    "            suggestions.loc['BTC'] = [BTC_to_buy, ext_price, 'Buy BTC']\n",
    "            suggestions.loc['USD'] = [-USD_to_spend,-USD_to_spend, 'BTC price w fees']\n",
    "\n",
    "        # If BTC is predicted to go down - sell it\n",
    "        if prediction < float(BTC.price_on_date(today)):\n",
    "            BTC_to_spend = risk_rate * positions['position_size'].loc['BTC']  # In this strategy, we change position by risk_rate% on every step\n",
    "            ext_price = BTC_to_spend/(1 + fee_rate)                    # This is how much BTC will be sold, extended price\n",
    "            fees = BTC_to_spend - ext_price                            # This is plaform fees\n",
    "            BTC_price = BTC.history['close'].loc[today]                # BTC price at the time of decision\n",
    "            USD_to_buy = ext_price*BTC_price\n",
    "            suggestions.loc['BTC'] = [-BTC_to_spend, -BTC_to_spend, 'Sell BTC w fees']\n",
    "            suggestions.loc['USD'] = [USD_to_buy, USD_to_buy, 'BTC sale']\n",
    "            suggestions.dropna(inplace=True)\n",
    "\n",
    "        return suggestions\n",
    "\n",
    "    def backtest(self, hist_data: pd.DataFrame, portfolio: Portfolio):\n",
    "        updated_portfolio = Portfolio()\n",
    "        return updated_portfolio\n",
    "    \n",
    "    def predict_batch(self, data_to_process):\n",
    "        '''\n",
    "        Given the new data go one time point after another and make predictions\n",
    "        '''\n",
    "        prediction_prices = []\n",
    "        pred_prices_idx = []\n",
    "        for tomorrow_date in data_to_process.index[(self.input_span-1):]:\n",
    "            try:\n",
    "                # range(tomorrow - 14: tomorrow) is 15 day-log timespan that end today!\n",
    "                current_day_input = data_to_process.loc[tomorrow_date - tmpdelta(days=self.input_span-1):tomorrow_date]  # Data slice to be used in this step\n",
    "                model_input = self.scaler.transform(np.array(current_day_input.values).reshape(-1,1) )     # Data scaled as input for the model\n",
    "                model_input = np.array(model_input).reshape(-1, model_input.shape[0], model_input.shape[1])                           # Data shaped as input for the model\n",
    "                tmr_BTC_price = self.model.predict(model_input,verbose = 0)                                # Predict\n",
    "                tmr_BTC_price = self.scaler.inverse_transform(tmr_BTC_price)[0][0]                         # Un-scale to get predicted asset price\n",
    "                prediction_prices.append(tmr_BTC_price)                                               # Save the result in the output array\n",
    "                pred_prices_idx.append(tomorrow_date)\n",
    "\n",
    "                # Format string for output\n",
    "                today_day = tomorrow_date-tmpdelta(days=1)                      # Get date we are predictig for \n",
    "                today_BTC_price = data_to_process.loc[today_day]                                             # Get current asset price \n",
    "                # print(f'Today ({today_day}):{today_BTC_price}, predicted for {tomorrow_date}: {tmr_BTC_price}')\n",
    "            except Exception as e:\n",
    "                print(e)\n",
    "                pass\n",
    "        return pd.DataFrame(data=prediction_prices, columns = ['Predicted price'], index = pd.DatetimeIndex(pred_prices_idx, name='date_time'))\n",
    "\n",
    "    def predict_one(self, data_to_process):\n",
    "        '''\n",
    "        Given the data predict for the next timepoint\n",
    "        '''\n",
    "        tomorrow_date = data_to_process.index[-1]+tmpdelta(days=1)\n",
    "        today_day = data_to_process.index[-1]\n",
    "        today_BTC_price = data_to_process.loc[today_day] \n",
    "        try:\n",
    "            model_input = self.scaler.transform(np.array(data_to_process.values).reshape(-1,1) )     # Data scaled as input for the model\n",
    "            model_input = np.array(model_input).reshape(-1, model_input.shape[0], model_input.shape[1])# Data shaped as input for the model\n",
    "            tmr_BTC_price = self.model.predict(model_input,verbose = 0)                                # Predict\n",
    "            tmr_BTC_price = self.scaler.inverse_transform(tmr_BTC_price)[0][0]                         # Un-scale to get predicted asset price\n",
    "\n",
    "            print(f'Today ({today_day}):{today_BTC_price}, predicted for {tomorrow_date}: {tmr_BTC_price}')\n",
    "        except Exception as e:\n",
    "            print(e)\n",
    "            pass\n",
    "        return pd.DataFrame(data=[tmr_BTC_price],\n",
    "                            columns = ['Predicted price'],\n",
    "                            index = pd.DatetimeIndex([tomorrow_date], name='date_time'))\n",
    "\n",
    "    def train_val_split_scale(self, df):\n",
    "        len_train = int(0.7*len(df))\n",
    "        X = []\n",
    "        y = []\n",
    "        scaled_data = self.scaler.fit_transform(np.array(df['close'].values).reshape(-1,1) )\n",
    "        for x in range(self.input_span, len(df)):\n",
    "            X.append(scaled_data[x-self.input_span:x, 0])\n",
    "            y.append(scaled_data[x,0])\n",
    "        X, y = (np.array(X), np.array(y))\n",
    "        X = np.reshape(X, (X.shape[0], X.shape[1], 1))\n",
    "        train_idx = df.index[self.input_span:len_train]\n",
    "        val_index = df.index[len_train:]\n",
    "        print(f'from {train_idx[0]} to {train_idx[-1]}')\n",
    "        return X[0:len_train-self.input_span,:,:], y[0:len_train-self.input_span], train_idx, X[len_train-self.input_span:,:,:], y[len_train-self.input_span:], val_index"
   ]
  },
  {
   "cell_type": "code",
   "execution_count": 4,
   "metadata": {},
   "outputs": [
    {
     "name": "stdout",
     "output_type": "stream",
     "text": [
      "from 2022-01-16 19:00:00 to 2023-07-28 20:00:00\n"
     ]
    }
   ],
   "source": [
    "naive_LSTM = Strategy(model_input_length = 15)\n",
    "date_from = tmpstemp('2022-01-01')\n",
    "x_train, y_train, train_idx, x_val, y_val, val_idx = naive_LSTM.train_val_split_scale(BTC.history.loc[date_from:])"
   ]
  },
  {
   "cell_type": "code",
   "execution_count": 5,
   "metadata": {},
   "outputs": [
    {
     "name": "stdout",
     "output_type": "stream",
     "text": [
      "Model: \"model_1\"\n",
      "_________________________________________________________________\n",
      " Layer (type)                Output Shape              Param #   \n",
      "=================================================================\n",
      " input (InputLayer)          [(None, 15, 1)]           0         \n",
      "                                                                 \n",
      " LSTM1 (LSTM)                (None, 15, 50)            10400     \n",
      "                                                                 \n",
      " dropout (Dropout)           (None, 15, 50)            0         \n",
      "                                                                 \n",
      " LSTM2 (LSTM)                (None, 15, 50)            20200     \n",
      "                                                                 \n",
      " dropout_1 (Dropout)         (None, 15, 50)            0         \n",
      "                                                                 \n",
      " LSTM3 (LSTM)                (None, 50)                20200     \n",
      "                                                                 \n",
      " dropout_2 (Dropout)         (None, 50)                0         \n",
      "                                                                 \n",
      " hidden_layer1 (Dense)       (None, 50)                2550      \n",
      "                                                                 \n",
      " dropout_3 (Dropout)         (None, 50)                0         \n",
      "                                                                 \n",
      " Regression_layer (Dense)    (None, 1)                 51        \n",
      "                                                                 \n",
      "=================================================================\n",
      "Total params: 53,401\n",
      "Trainable params: 53,401\n",
      "Non-trainable params: 0\n",
      "_________________________________________________________________\n"
     ]
    }
   ],
   "source": [
    "hidden_size = 50\n",
    "dropout = 0.3\n",
    "learning_rate = 0.0005\n",
    "\n",
    "input_layer = Input(shape=(x_train.shape[1], x_train.shape[2]), name = 'input')\n",
    "\n",
    "LSTM1 = LSTM(units = 50, activation='tanh', return_sequences=True, name = 'LSTM1' )(input_layer)\n",
    "LSTM1 = Dropout(dropout)(LSTM1)\n",
    "\n",
    "LSTM2 = LSTM(units = 50, activation='tanh', return_sequences=True, name = 'LSTM2' )(LSTM1)\n",
    "LSTM2 = Dropout(dropout)(LSTM2)\n",
    "\n",
    "LSTM3 = LSTM(units = 50, activation='tanh', name = 'LSTM3' )(LSTM2)\n",
    "LSTM3 = Dropout(dropout)(LSTM3)\n",
    "\n",
    "hidden1 = Dense(hidden_size, activation='relu', name='hidden_layer1')(LSTM3)\n",
    "hidden1 = Dropout(dropout)(hidden1)\n",
    "\n",
    "\n",
    "# Create output layer\n",
    "out = Dense(1, activation='linear', name = 'Regression_layer')(hidden1)\n",
    "model = Model(inputs=[input_layer], outputs=out)\n",
    "\n",
    "\n",
    "model.compile(optimizer=Adam(learning_rate),\n",
    "              loss=keras.losses.mean_squared_error,\n",
    "              metrics=[keras.metrics.mean_squared_error])\n",
    "naive_LSTM.model = model\n",
    "naive_LSTM.model.summary()"
   ]
  },
  {
   "cell_type": "code",
   "execution_count": 6,
   "metadata": {},
   "outputs": [
    {
     "name": "stdout",
     "output_type": "stream",
     "text": [
      "Epoch 1/20\n",
      "9/9 [==============================] - 12s 337ms/step - loss: 0.0531 - mean_squared_error: 0.0531 - val_loss: 0.1861 - val_mean_squared_error: 0.1861\n",
      "Epoch 2/20\n",
      "9/9 [==============================] - 1s 71ms/step - loss: 0.0325 - mean_squared_error: 0.0325 - val_loss: 0.1001 - val_mean_squared_error: 0.1001\n",
      "Epoch 3/20\n",
      "9/9 [==============================] - 1s 69ms/step - loss: 0.0147 - mean_squared_error: 0.0147 - val_loss: 0.0218 - val_mean_squared_error: 0.0218\n",
      "Epoch 4/20\n",
      "9/9 [==============================] - 1s 69ms/step - loss: 0.0115 - mean_squared_error: 0.0115 - val_loss: 0.0438 - val_mean_squared_error: 0.0438\n",
      "Epoch 5/20\n",
      "9/9 [==============================] - 1s 67ms/step - loss: 0.0083 - mean_squared_error: 0.0083 - val_loss: 0.0200 - val_mean_squared_error: 0.0200\n",
      "Epoch 6/20\n",
      "9/9 [==============================] - 1s 67ms/step - loss: 0.0064 - mean_squared_error: 0.0064 - val_loss: 0.0075 - val_mean_squared_error: 0.0075\n",
      "Epoch 7/20\n",
      "9/9 [==============================] - 1s 68ms/step - loss: 0.0061 - mean_squared_error: 0.0061 - val_loss: 0.0068 - val_mean_squared_error: 0.0068\n",
      "Epoch 8/20\n",
      "9/9 [==============================] - 1s 76ms/step - loss: 0.0049 - mean_squared_error: 0.0049 - val_loss: 0.0046 - val_mean_squared_error: 0.0046\n",
      "Epoch 9/20\n",
      "9/9 [==============================] - 1s 72ms/step - loss: 0.0045 - mean_squared_error: 0.0045 - val_loss: 0.0064 - val_mean_squared_error: 0.0064\n",
      "Epoch 10/20\n",
      "9/9 [==============================] - 1s 71ms/step - loss: 0.0045 - mean_squared_error: 0.0045 - val_loss: 0.0064 - val_mean_squared_error: 0.0064\n",
      "Epoch 11/20\n",
      "9/9 [==============================] - 1s 68ms/step - loss: 0.0045 - mean_squared_error: 0.0045 - val_loss: 0.0058 - val_mean_squared_error: 0.0058\n",
      "Epoch 12/20\n",
      "9/9 [==============================] - 1s 67ms/step - loss: 0.0044 - mean_squared_error: 0.0044 - val_loss: 0.0061 - val_mean_squared_error: 0.0061\n",
      "Epoch 13/20\n",
      "9/9 [==============================] - 1s 68ms/step - loss: 0.0045 - mean_squared_error: 0.0045 - val_loss: 0.0052 - val_mean_squared_error: 0.0052\n"
     ]
    },
    {
     "data": {
      "text/plain": [
       "<keras.callbacks.History at 0x1b22ea36e80>"
      ]
     },
     "execution_count": 6,
     "metadata": {},
     "output_type": "execute_result"
    }
   ],
   "source": [
    "#Set up early stopping monitor\n",
    "early_stopping = EarlyStopping(monitor='val_mean_squared_error',\n",
    "                               patience=5,\n",
    "                               mode = \"auto\",\n",
    "                               restore_best_weights=True)\n",
    "\n",
    "naive_LSTM.model.fit([x_train], y_train, \n",
    "          validation_data=([x_val], y_val),\n",
    "          epochs=20, batch_size=64,\n",
    "          callbacks=[early_stopping])\n"
   ]
  },
  {
   "cell_type": "code",
   "execution_count": 7,
   "metadata": {},
   "outputs": [
    {
     "name": "stdout",
     "output_type": "stream",
     "text": [
      "Timestamp('2023-11-04 19:00:00')\n",
      "Timestamp('2024-03-09 20:00:00')\n"
     ]
    }
   ],
   "source": [
    "pred_df = naive_LSTM.predict_batch(data_to_process = BTC.history['close'].loc[val_idx[0]-tmpdelta(days=15):])"
   ]
  },
  {
   "cell_type": "code",
   "execution_count": 8,
   "metadata": {},
   "outputs": [
    {
     "data": {
      "text/plain": [
       "\"\\npredicted = {}\\ncurrent = {}\\n\\n# Given the new data go one time point after another and make predictions \\nfor x in range(1,len(val_idx)):\\n    model_input = x_val[x,:,:].reshape(1,input_span,1)                       # Data shaped as input for the model\\n    pred_BTC_price = naive_LSTM.model.predict(model_input, verbose=0)                                # Predict\\n    pred_BTC_price = scaler.inverse_transform(pred_BTC_price)[0][0]                        # Un-scale to get predicted asset price\\n\\n    # Format string for output\\n    current_date = val_idx[x-1]\\n    predicted_for_date = val_idx[x]                   # Get date we are predictig for \\n    curr_BTC_price = BTC.history['close'].loc[current_date]                                             # Get current asset price \\n    #print(f'Today ({val_idx[x]}):{curr_BTC_price}, predicted for {predicted_for_date}: {pred_BTC_price}')\\n    predicted[predicted_for_date] = pred_BTC_price\\n    current[current_date] = curr_BTC_price                                               # Save the result in the output array\\npredicted_df = pd.DataFrame(columns = ['predicted'], data = predicted.values(), index = pd.DatetimeIndex(predicted.keys(), name = 'date_time'))\\ncurrent_df = pd.DataFrame(columns = ['current'], data = current.values(), index = pd.DatetimeIndex(current.keys(), name = 'date_time'))\\ndf_to_plot = pd.merge(current_df, predicted_df, left_index=True, right_index=True)\\ndf_to_plot.head()\\n\""
      ]
     },
     "execution_count": 8,
     "metadata": {},
     "output_type": "execute_result"
    }
   ],
   "source": [
    "'''\n",
    "predicted = {}\n",
    "current = {}\n",
    "\n",
    "# Given the new data go one time point after another and make predictions \n",
    "for x in range(1,len(val_idx)):\n",
    "    model_input = x_val[x,:,:].reshape(1,input_span,1)                       # Data shaped as input for the model\n",
    "    pred_BTC_price = naive_LSTM.model.predict(model_input, verbose=0)                                # Predict\n",
    "    pred_BTC_price = scaler.inverse_transform(pred_BTC_price)[0][0]                        # Un-scale to get predicted asset price\n",
    "\n",
    "    # Format string for output\n",
    "    current_date = val_idx[x-1]\n",
    "    predicted_for_date = val_idx[x]                   # Get date we are predictig for \n",
    "    curr_BTC_price = BTC.history['close'].loc[current_date]                                             # Get current asset price \n",
    "    #print(f'Today ({val_idx[x]}):{curr_BTC_price}, predicted for {predicted_for_date}: {pred_BTC_price}')\n",
    "    predicted[predicted_for_date] = pred_BTC_price\n",
    "    current[current_date] = curr_BTC_price                                               # Save the result in the output array\n",
    "predicted_df = pd.DataFrame(columns = ['predicted'], data = predicted.values(), index = pd.DatetimeIndex(predicted.keys(), name = 'date_time'))\n",
    "current_df = pd.DataFrame(columns = ['current'], data = current.values(), index = pd.DatetimeIndex(current.keys(), name = 'date_time'))\n",
    "df_to_plot = pd.merge(current_df, predicted_df, left_index=True, right_index=True)\n",
    "df_to_plot.head()\n",
    "'''"
   ]
  },
  {
   "cell_type": "code",
   "execution_count": 9,
   "metadata": {},
   "outputs": [],
   "source": [
    "my_portfolio = Portfolio(origination_date=(pred_df.index[0] - tmpdelta(days=1)),\n",
    "                         initial_deposit= 0.5* BTC.price_on_date(pred_df.index[0] - tmpdelta(days=1)))\n",
    "my_portfolio.update_transactions(ticker='BTC',\n",
    "                                qty = 0.5,\n",
    "                                transaction_date=(pred_df.index[0] - tmpdelta(days=1)),\n",
    "                                note = 'Initial deposit' )\n",
    "\n",
    "ref_portfolio = Portfolio(origination_date=(pred_df.index[0] - tmpdelta(days=1)),\n",
    "                         initial_deposit= 0.5* BTC.price_on_date(pred_df.index[0] - tmpdelta(days=1)))\n",
    "ref_portfolio.update_transactions(ticker='BTC',\n",
    "                                qty = 0.5,\n",
    "                                transaction_date=(pred_df.index[0] - tmpdelta(days=1)),\n",
    "                                note = 'Initial deposit' )"
   ]
  },
  {
   "cell_type": "code",
   "execution_count": 25,
   "metadata": {},
   "outputs": [],
   "source": [
    "def make_suggestion(today, portfolio):\n",
    "    risk_rate = 0.02\n",
    "    fee_rate = 0.006\n",
    "    \n",
    "    positions = portfolio.get_positions(today)\n",
    "    print(positions)\n",
    "    suggestions = pd.DataFrame(columns = ['change_in_size', 'USD_value', 'note'], index = positions.index)\n",
    "    data_to_process = BTC.history['close'].loc[today-tmpdelta(days=naive_LSTM.input_span-1):today+tmpdelta(days=1)]\n",
    "    print(data_to_process)\n",
    "    prediction = naive_LSTM.predict_one(data_to_process)\n",
    "    prediction = float(prediction['Predicted price'])\n",
    "    #print(prediction)\n",
    "\n",
    "    # If BTC is predicted to go up - buy it\n",
    "    if prediction > float(BTC.price_on_date(today)):\n",
    "        USD_to_spend = risk_rate * positions['position_value'].loc['USD']  # In this strategy, we change position by risk_rate% on every step\n",
    "        ext_price = USD_to_spend/(1 + fee_rate)                    # This is how much will be paid for BTC, extended price\n",
    "        fees = USD_to_spend - ext_price                            # This is plaform fees\n",
    "        BTC_price = BTC.history['close'].loc[today]                # BTC price at the time of decision\n",
    "        BTC_to_buy = ext_price/BTC_price\n",
    "        suggestions.loc['BTC'] = [BTC_to_buy, ext_price, 'Buy BTC']\n",
    "        suggestions.loc['USD'] = [-USD_to_spend,-USD_to_spend, 'BTC price w fees']\n",
    "\n",
    "    # If BTC is predicted to go down - sell it\n",
    "    if prediction < float(BTC.price_on_date(today)):\n",
    "        BTC_to_spend = risk_rate * positions['position_size'].loc['BTC']  # In this strategy, we change position by risk_rate% on every step\n",
    "        ext_price = BTC_to_spend/(1 + fee_rate)                    # This is how much BTC will be sold, extended price\n",
    "        fees = BTC_to_spend - ext_price                            # This is plaform fees\n",
    "        BTC_price = BTC.history['close'].loc[today]                # BTC price at the time of decision\n",
    "        USD_to_buy = ext_price*BTC_price\n",
    "        suggestions.loc['BTC'] = [-BTC_to_spend, -BTC_to_spend, 'Sell BTC w fees']\n",
    "        suggestions.loc['USD'] = [USD_to_buy, USD_to_buy, 'BTC sale']\n",
    "        suggestions.dropna(inplace=True)\n"
   ]
  },
  {
   "cell_type": "code",
   "execution_count": 26,
   "metadata": {},
   "outputs": [
    {
     "name": "stdout",
     "output_type": "stream",
     "text": [
      "       position_size position_value\n",
      "ticker                             \n",
      "BTC              NaN            NaN\n",
      "USD              NaN            NaN\n",
      "date_time\n",
      "2023-07-14 20:00:00    30301.65\n",
      "2023-07-15 20:00:00    30247.64\n",
      "2023-07-16 20:00:00    30143.08\n",
      "2023-07-17 20:00:00    29861.93\n",
      "2023-07-18 20:00:00    29916.72\n",
      "2023-07-19 20:00:00    29809.13\n",
      "2023-07-20 20:00:00    29907.98\n",
      "2023-07-21 20:00:00    29795.03\n",
      "2023-07-22 20:00:00    30081.61\n",
      "2023-07-23 20:00:00    29176.98\n",
      "2023-07-24 20:00:00    29225.14\n",
      "2023-07-25 20:00:00    29353.23\n",
      "2023-07-26 20:00:00    29214.92\n",
      "2023-07-27 20:00:00    29316.15\n",
      "2023-07-28 20:00:00    29355.71\n",
      "2023-07-29 20:00:00    29281.39\n",
      "Name: close, dtype: float64\n",
      "Today (2023-07-29 20:00:00):29281.39, predicted for 2023-07-30 20:00:00: 28997.671875\n"
     ]
    },
    {
     "ename": "AttributeError",
     "evalue": "'NoneType' object has no attribute 'index'",
     "output_type": "error",
     "traceback": [
      "\u001b[1;31m---------------------------------------------------------------------------\u001b[0m",
      "\u001b[1;31mAttributeError\u001b[0m                            Traceback (most recent call last)",
      "Cell \u001b[1;32mIn[26], line 12\u001b[0m\n\u001b[0;32m     10\u001b[0m     tomorrow \u001b[38;5;241m=\u001b[39m pred_df\u001b[38;5;241m.\u001b[39mindex[x\u001b[38;5;241m+\u001b[39m\u001b[38;5;241m1\u001b[39m]\n\u001b[0;32m     11\u001b[0m     suggestion \u001b[38;5;241m=\u001b[39m make_suggestion(today, my_portfolio)\n\u001b[1;32m---> 12\u001b[0m     \u001b[43mexecute_suggestions\u001b[49m\u001b[43m(\u001b[49m\u001b[43msuggestion\u001b[49m\u001b[43m,\u001b[49m\u001b[43m \u001b[49m\u001b[43mmy_portfolio\u001b[49m\u001b[43m)\u001b[49m\n\u001b[0;32m     14\u001b[0m my_portfolio\u001b[38;5;241m.\u001b[39mupdate_value(up_to\u001b[38;5;241m=\u001b[39mpred_df\u001b[38;5;241m.\u001b[39mindex[\u001b[38;5;241m-\u001b[39m\u001b[38;5;241m1\u001b[39m])\n\u001b[0;32m     15\u001b[0m ref_portfolio\u001b[38;5;241m.\u001b[39mupdate_value(up_to\u001b[38;5;241m=\u001b[39mpred_df\u001b[38;5;241m.\u001b[39mindex[\u001b[38;5;241m-\u001b[39m\u001b[38;5;241m1\u001b[39m])\n",
      "Cell \u001b[1;32mIn[26], line 2\u001b[0m, in \u001b[0;36mexecute_suggestions\u001b[1;34m(suggestions, portfolio)\u001b[0m\n\u001b[0;32m      1\u001b[0m \u001b[38;5;28;01mdef\u001b[39;00m \u001b[38;5;21mexecute_suggestions\u001b[39m(suggestions, portfolio):\n\u001b[1;32m----> 2\u001b[0m     \u001b[38;5;28;01mfor\u001b[39;00m ticker \u001b[38;5;129;01min\u001b[39;00m \u001b[43msuggestions\u001b[49m\u001b[38;5;241;43m.\u001b[39;49m\u001b[43mindex\u001b[49m:\n\u001b[0;32m      3\u001b[0m         portfolio\u001b[38;5;241m.\u001b[39mupdate_transactions(ticker \u001b[38;5;241m=\u001b[39m \u001b[38;5;28mstr\u001b[39m(ticker),\n\u001b[0;32m      4\u001b[0m                                     qty \u001b[38;5;241m=\u001b[39m  suggestions[\u001b[38;5;124m'\u001b[39m\u001b[38;5;124mchange_in_size\u001b[39m\u001b[38;5;124m'\u001b[39m]\u001b[38;5;241m.\u001b[39mloc[ticker],\n\u001b[0;32m      5\u001b[0m                                     transaction_date \u001b[38;5;241m=\u001b[39m today,\n\u001b[0;32m      6\u001b[0m                                     note \u001b[38;5;241m=\u001b[39m  suggestions[\u001b[38;5;124m'\u001b[39m\u001b[38;5;124mnote\u001b[39m\u001b[38;5;124m'\u001b[39m]\u001b[38;5;241m.\u001b[39mloc[ticker])\n",
      "\u001b[1;31mAttributeError\u001b[0m: 'NoneType' object has no attribute 'index'"
     ]
    }
   ],
   "source": [
    "\n",
    "\n",
    "def execute_suggestions(suggestions, portfolio):\n",
    "    for ticker in suggestions.index:\n",
    "        portfolio.update_transactions(ticker = str(ticker),\n",
    "                                    qty =  suggestions['change_in_size'].loc[ticker],\n",
    "                                    transaction_date = today,\n",
    "                                    note =  suggestions['note'].loc[ticker])\n",
    "\n",
    "for x in range (len(pred_df)-1):\n",
    "    today = pred_df.index[x]\n",
    "    tomorrow = pred_df.index[x+1]\n",
    "    suggestion = make_suggestion(today, my_portfolio)\n",
    "    execute_suggestions(suggestion, my_portfolio)\n",
    "\n",
    "my_portfolio.update_value(up_to=pred_df.index[-1])\n",
    "ref_portfolio.update_value(up_to=pred_df.index[-1])"
   ]
  },
  {
   "cell_type": "code",
   "execution_count": 24,
   "metadata": {},
   "outputs": [
    {
     "name": "stdout",
     "output_type": "stream",
     "text": [
      "       position_size position_value\n",
      "ticker                             \n",
      "BTC              NaN            NaN\n",
      "USD              NaN            NaN\n",
      "date_time\n",
      "2023-07-14 20:00:00    30301.65\n",
      "2023-07-15 20:00:00    30247.64\n",
      "2023-07-16 20:00:00    30143.08\n",
      "2023-07-17 20:00:00    29861.93\n",
      "2023-07-18 20:00:00    29916.72\n",
      "2023-07-19 20:00:00    29809.13\n",
      "2023-07-20 20:00:00    29907.98\n",
      "2023-07-21 20:00:00    29795.03\n",
      "2023-07-22 20:00:00    30081.61\n",
      "2023-07-23 20:00:00    29176.98\n",
      "2023-07-24 20:00:00    29225.14\n",
      "2023-07-25 20:00:00    29353.23\n",
      "2023-07-26 20:00:00    29214.92\n",
      "2023-07-27 20:00:00    29316.15\n",
      "2023-07-28 20:00:00    29355.71\n",
      "2023-07-29 20:00:00    29281.39\n",
      "Name: close, dtype: float64\n",
      "Today (2023-07-29 20:00:00):29281.39, predicted for 2023-07-30 20:00:00: 28997.671875\n"
     ]
    }
   ],
   "source": [
    "suggestion = make_suggestion(pred_df.index[0], my_portfolio)"
   ]
  },
  {
   "cell_type": "code",
   "execution_count": 13,
   "metadata": {},
   "outputs": [
    {
     "data": {
      "image/png": "[encoded data removed]",
      "text/plain": [
       "<Figure size 800x400 with 2 Axes>"
      ]
     },
     "metadata": {},
     "output_type": "display_data"
    }
   ],
   "source": [
    "# Plot the results\n",
    "fig, ax = plt.subplots(1, 2)\n",
    "fig.set_figheight(4)\n",
    "fig.set_figwidth(8)\n",
    "actual_df = BTC.history.loc[pred_df.index[0]: pred_df.index[-1]]\n",
    "ax[0].plot(actual_df.index, actual_df['close'], color = 'black', label = 'Actual')\n",
    "ax[0].plot(pred_df.index, pred_df['Predicted price'], color = 'green', label = 'Predicted')\n",
    "ax[0].plot(my_portfolio.value.index, my_portfolio.value['value'], color = 'red', label = 'Experimental Portfolio')\n",
    "ax[0].plot(ref_portfolio.value.index, ref_portfolio.value['value'], color = 'blue', label = 'Reference Portfolio')\n",
    "for tick in ax[0].get_xticklabels():\n",
    "        tick.set_rotation(45)\n",
    "\n",
    "ax[1].plot(my_portfolio.value.index, (my_portfolio.value['value'] - ref_portfolio.value['value'])/ref_portfolio.value['value'], color = 'black', label = 'ROI')\n",
    "for tick in ax[1].get_xticklabels():\n",
    "        tick.set_rotation(45)"
   ]
  },
  {
   "cell_type": "code",
   "execution_count": null,
   "metadata": {},
   "outputs": [],
   "source": []
  }
 ],
 "metadata": {
  "kernelspec": {
   "display_name": "crypto",
   "language": "python",
   "name": "python3"
  },
  "language_info": {
   "codemirror_mode": {
    "name": "ipython",
    "version": 3
   },
   "file_extension": ".py",
   "mimetype": "text/x-python",
   "name": "python",
   "nbconvert_exporter": "python",
   "pygments_lexer": "ipython3",
   "version": "3.9.15"
  }
 },
 "nbformat": 4,
 "nbformat_minor": 2
}
