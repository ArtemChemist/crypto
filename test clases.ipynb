{
 "cells": [
  {
   "cell_type": "code",
   "execution_count": 1,
   "metadata": {},
   "outputs": [
    {
     "name": "stderr",
     "output_type": "stream",
     "text": [
      "C:\\Users\\Artem\\AppData\\Local\\Temp\\ipykernel_20588\\1986613272.py:1: DeprecationWarning: \n",
      "Pyarrow will become a required dependency of pandas in the next major release of pandas (pandas 3.0),\n",
      "(to allow more performant data types, such as the Arrow string type, and better interoperability with other libraries)\n",
      "but was not found to be installed on your system.\n",
      "If this would cause problems for you,\n",
      "please provide us feedback at https://github.com/pandas-dev/pandas/issues/54466\n",
      "        \n",
      "  import pandas as pd\n"
     ]
    }
   ],
   "source": [
    "import pandas as pd\n",
    "from pandas import Timestamp as tmpstemp\n",
    "from pandas import Timedelta as tmpdelta\n",
    "import numpy as np\n",
    "\n",
    "from sklearn.preprocessing import MinMaxScaler\n",
    "from tensorflow import keras\n",
    "from keras.layers import Dense, Dropout, LSTM, Input\n",
    "from keras.models import Model\n",
    "from keras.optimizers import Adam\n",
    "from keras.callbacks import EarlyStopping\n",
    "\n",
    "import matplotlib.pyplot as plt\n",
    "\n",
    "from portfolio import Portfolio, Asset, Strategy\n",
    "\n",
    "import warnings\n",
    "warnings.simplefilter(action='ignore', category=FutureWarning)"
   ]
  },
  {
   "cell_type": "code",
   "execution_count": 2,
   "metadata": {},
   "outputs": [],
   "source": [
    "USD = Asset.make_USD()\n",
    "BTC = Asset('BTC')\n",
    "#BTC.update_history_from_excahnge(currency = 'USD', date_from = tmpstemp('2020-01-01'), date_to = tmpstemp('2024-03-31'))\n",
    "ETH = Asset('ETH')\n",
    "#ETH.update_history_from_excahnge(currency = 'USD', date_from = tmpstemp('2020-01-01'), date_to = tmpstemp('2024-03-31'))\n",
    "USDT = Asset('USDT')\n",
    "#USDT.update_history_from_excahnge(currency = 'USD', date_from = tmpstemp('2021-01-01'), date_to = tmpstemp('2024-03-31'))"
   ]
  },
  {
   "cell_type": "code",
   "execution_count": 3,
   "metadata": {},
   "outputs": [],
   "source": [
    "naive_LSTM = Strategy(model_input_length = 15)\n",
    "date_from = tmpstemp('2022-01-01')\n",
    "x_train, y_train, train_idx, x_val, y_val, val_idx = naive_LSTM.train_val_split_scale(BTC.history.loc[date_from:])"
   ]
  },
  {
   "cell_type": "code",
   "execution_count": 4,
   "metadata": {},
   "outputs": [
    {
     "name": "stdout",
     "output_type": "stream",
     "text": [
      "Model: \"model_1\"\n",
      "_________________________________________________________________\n",
      " Layer (type)                Output Shape              Param #   \n",
      "=================================================================\n",
      " input (InputLayer)          [(None, 15, 1)]           0         \n",
      "                                                                 \n",
      " LSTM1 (LSTM)                (None, 15, 50)            10400     \n",
      "                                                                 \n",
      " dropout (Dropout)           (None, 15, 50)            0         \n",
      "                                                                 \n",
      " LSTM2 (LSTM)                (None, 15, 50)            20200     \n",
      "                                                                 \n",
      " dropout_1 (Dropout)         (None, 15, 50)            0         \n",
      "                                                                 \n",
      " LSTM3 (LSTM)                (None, 50)                20200     \n",
      "                                                                 \n",
      " dropout_2 (Dropout)         (None, 50)                0         \n",
      "                                                                 \n",
      " hidden_layer1 (Dense)       (None, 50)                2550      \n",
      "                                                                 \n",
      " dropout_3 (Dropout)         (None, 50)                0         \n",
      "                                                                 \n",
      " Regression_layer (Dense)    (None, 1)                 51        \n",
      "                                                                 \n",
      "=================================================================\n",
      "Total params: 53,401\n",
      "Trainable params: 53,401\n",
      "Non-trainable params: 0\n",
      "_________________________________________________________________\n"
     ]
    }
   ],
   "source": [
    "hidden_size = 50\n",
    "dropout = 0.2\n",
    "learning_rate = 0.001\n",
    "\n",
    "input_layer = Input(shape=(x_train.shape[1], x_train.shape[2]), name = 'input')\n",
    "\n",
    "LSTM1 = LSTM(units = 50, activation='tanh', return_sequences=True, name = 'LSTM1' )(input_layer)\n",
    "LSTM1 = Dropout(dropout)(LSTM1)\n",
    "\n",
    "LSTM2 = LSTM(units = 50, activation='tanh', return_sequences=True, name = 'LSTM2' )(LSTM1)\n",
    "LSTM2 = Dropout(dropout)(LSTM2)\n",
    "\n",
    "LSTM3 = LSTM(units = 50, activation='tanh', name = 'LSTM3' )(LSTM2)\n",
    "LSTM3 = Dropout(dropout)(LSTM3)\n",
    "'''\n",
    "hidden1 = Dense(hidden_size, activation='relu', name='hidden_layer1')(LSTM3)\n",
    "hidden1 = Dropout(dropout)(hidden1)\n",
    "'''\n",
    "\n",
    "\n",
    "# Create output layer\n",
    "out = Dense(1, activation='linear', name = 'Regression_layer')(LSTM3)\n",
    "model = Model(inputs=[input_layer], outputs=out)\n",
    "\n",
    "\n",
    "model.compile(optimizer=Adam(learning_rate),\n",
    "              loss=keras.losses.mean_squared_error,\n",
    "              metrics=[keras.metrics.mean_squared_error])\n",
    "naive_LSTM.model = model\n",
    "naive_LSTM.model.summary()"
   ]
  },
  {
   "cell_type": "code",
   "execution_count": 5,
   "metadata": {},
   "outputs": [
    {
     "name": "stdout",
     "output_type": "stream",
     "text": [
      "Epoch 1/20\n",
      "9/9 [==============================] - 13s 345ms/step - loss: 0.0329 - mean_squared_error: 0.0329 - val_loss: 0.0258 - val_mean_squared_error: 0.0258\n",
      "Epoch 2/20\n",
      "9/9 [==============================] - 1s 74ms/step - loss: 0.0124 - mean_squared_error: 0.0124 - val_loss: 0.0613 - val_mean_squared_error: 0.0613\n",
      "Epoch 3/20\n",
      "9/9 [==============================] - 1s 90ms/step - loss: 0.0078 - mean_squared_error: 0.0078 - val_loss: 0.0072 - val_mean_squared_error: 0.0072\n",
      "Epoch 4/20\n",
      "9/9 [==============================] - 1s 75ms/step - loss: 0.0045 - mean_squared_error: 0.0045 - val_loss: 0.0100 - val_mean_squared_error: 0.0100\n",
      "Epoch 5/20\n",
      "9/9 [==============================] - 1s 85ms/step - loss: 0.0042 - mean_squared_error: 0.0042 - val_loss: 0.0044 - val_mean_squared_error: 0.0044\n",
      "Epoch 6/20\n",
      "9/9 [==============================] - 1s 81ms/step - loss: 0.0036 - mean_squared_error: 0.0036 - val_loss: 0.0121 - val_mean_squared_error: 0.0121\n",
      "Epoch 7/20\n",
      "9/9 [==============================] - 1s 78ms/step - loss: 0.0035 - mean_squared_error: 0.0035 - val_loss: 0.0101 - val_mean_squared_error: 0.0101\n",
      "Epoch 8/20\n",
      "9/9 [==============================] - 1s 77ms/step - loss: 0.0033 - mean_squared_error: 0.0033 - val_loss: 0.0058 - val_mean_squared_error: 0.0058\n",
      "Epoch 9/20\n",
      "9/9 [==============================] - 1s 78ms/step - loss: 0.0031 - mean_squared_error: 0.0031 - val_loss: 0.0089 - val_mean_squared_error: 0.0089\n",
      "Epoch 10/20\n",
      "9/9 [==============================] - 1s 87ms/step - loss: 0.0034 - mean_squared_error: 0.0034 - val_loss: 0.0080 - val_mean_squared_error: 0.0080\n"
     ]
    },
    {
     "data": {
      "text/plain": [
       "<keras.callbacks.History at 0x1f962ee4b50>"
      ]
     },
     "execution_count": 5,
     "metadata": {},
     "output_type": "execute_result"
    }
   ],
   "source": [
    "#Set up early stopping monitor\n",
    "early_stopping = EarlyStopping(monitor='val_mean_squared_error',\n",
    "                               patience=5,\n",
    "                               mode = \"auto\",\n",
    "                               restore_best_weights=True)\n",
    "\n",
    "naive_LSTM.model.fit([x_train], y_train, \n",
    "          validation_data=([x_val], y_val),\n",
    "          epochs=20, batch_size=64,\n",
    "          callbacks=[early_stopping])\n"
   ]
  },
  {
   "cell_type": "code",
   "execution_count": 6,
   "metadata": {},
   "outputs": [],
   "source": [
    "my_portfolio = Portfolio(origination_date=(val_idx[0] - tmpdelta(days=1)),\n",
    "                         initial_deposit= 0.5* BTC.price_on_date(val_idx[0] - tmpdelta(days=1)))\n",
    "my_portfolio.update_transactions(ticker='BTC',\n",
    "                                qty = 0.5,\n",
    "                                transaction_date=(val_idx[0] - tmpdelta(days=1)),\n",
    "                                note = 'Initial deposit' )\n",
    "\n",
    "ref_portfolio = Portfolio(origination_date=(val_idx[0] - tmpdelta(days=1)),\n",
    "                         initial_deposit= 0.5* BTC.price_on_date(val_idx[0] - tmpdelta(days=1)))\n",
    "ref_portfolio.update_transactions(ticker='BTC',\n",
    "                                qty = 0.5,\n",
    "                                transaction_date=(val_idx[0] - tmpdelta(days=1)),\n",
    "                                note = 'Initial deposit' )"
   ]
  },
  {
   "cell_type": "code",
   "execution_count": 7,
   "metadata": {},
   "outputs": [],
   "source": [
    "#pred_df = naive_LSTM.predict_batch(data_to_process = BTC.history['close'].loc[val_idx[0]-tmpdelta(days=14):])"
   ]
  },
  {
   "cell_type": "code",
   "execution_count": 24,
   "metadata": {},
   "outputs": [],
   "source": [
    "\n",
    "\n",
    "def execute_suggestions(suggestions, portfolio):\n",
    "    for ticker in suggestions.index:\n",
    "        portfolio.update_transactions(ticker = str(ticker),\n",
    "                                    qty =  suggestions['change_in_size'].loc[ticker],\n",
    "                                    transaction_date = today,\n",
    "                                    note =  suggestions['note'].loc[ticker])\n",
    "\n",
    "pred_df = pd.DataFrame(data=[],\n",
    "                        columns = ['Predicted price'],\n",
    "                        index = pd.DatetimeIndex([], name='date_time'))\n",
    "\n",
    "for today in val_idx[naive_LSTM.input_span-1:]:\n",
    "    tmr = today + tmpdelta(days=1)\n",
    "    today_data = BTC.history['close'].\\\n",
    "                        loc[today-tmpdelta(days=(naive_LSTM.input_span-1)):today]\n",
    "    new_pred = naive_LSTM.predict_one(today_data)\n",
    "    pred_df = pd.concat([pred_df, new_pred], axis = 0)\n",
    "    suggestion = naive_LSTM.make_suggestion(today, my_portfolio)\n",
    "    execute_suggestions(suggestion, my_portfolio)\n",
    "\n",
    "my_portfolio.update_value(up_to=pred_df.index[-1])\n",
    "ref_portfolio.update_value(up_to=pred_df.index[-1])"
   ]
  },
  {
   "cell_type": "code",
   "execution_count": 32,
   "metadata": {},
   "outputs": [
    {
     "data": {
      "image/png": "[encoded data removed]",
      "text/plain": [
       "<Figure size 800x400 with 2 Axes>"
      ]
     },
     "metadata": {},
     "output_type": "display_data"
    }
   ],
   "source": [
    "# Plot the results\n",
    "fig, ax = plt.subplots(1, 2)\n",
    "fig.set_figheight(4)\n",
    "fig.set_figwidth(8)\n",
    "actual_df = BTC.history.loc[val_idx]\n",
    "ax[0].plot(actual_df.index, actual_df['close'], color = 'black', label = 'Actual')\n",
    "ax[0].plot(pred_df.index, pred_df['Predicted price'], color = 'green', label = 'Predicted')\n",
    "ax[0].plot(my_portfolio.value.index, my_portfolio.value['value'], color = 'red', label = 'Experimental Portfolio')\n",
    "ax[0].plot(ref_portfolio.value.index, ref_portfolio.value['value'], color = 'blue', label = 'Reference Portfolio')\n",
    "for tick in ax[0].get_xticklabels():\n",
    "        tick.set_rotation(45)\n",
    "\n",
    "ax[1].plot(my_portfolio.value.index, (my_portfolio.value['value'] - ref_portfolio.value['value'])/ref_portfolio.value['value'], color = 'black', label = 'ROI')\n",
    "for tick in ax[1].get_xticklabels():\n",
    "        tick.set_rotation(45)"
   ]
  },
  {
   "cell_type": "code",
   "execution_count": 21,
   "metadata": {},
   "outputs": [
    {
     "data": {
      "text/html": [
       "<div>\n",
       "<style scoped>\n",
       "    .dataframe tbody tr th:only-of-type {\n",
       "        vertical-align: middle;\n",
       "    }\n",
       "\n",
       "    .dataframe tbody tr th {\n",
       "        vertical-align: top;\n",
       "    }\n",
       "\n",
       "    .dataframe thead th {\n",
       "        text-align: right;\n",
       "    }\n",
       "</style>\n",
       "<table border=\"1\" class=\"dataframe\">\n",
       "  <thead>\n",
       "    <tr style=\"text-align: right;\">\n",
       "      <th></th>\n",
       "      <th>Predicted price</th>\n",
       "    </tr>\n",
       "    <tr>\n",
       "      <th>date_time</th>\n",
       "      <th></th>\n",
       "    </tr>\n",
       "  </thead>\n",
       "  <tbody>\n",
       "    <tr>\n",
       "      <th>2023-08-14 20:00:00</th>\n",
       "      <td>32014.216797</td>\n",
       "    </tr>\n",
       "    <tr>\n",
       "      <th>2023-08-15 20:00:00</th>\n",
       "      <td>32026.798828</td>\n",
       "    </tr>\n",
       "    <tr>\n",
       "      <th>2023-08-16 20:00:00</th>\n",
       "      <td>32004.515625</td>\n",
       "    </tr>\n",
       "    <tr>\n",
       "      <th>2023-08-17 20:00:00</th>\n",
       "      <td>31991.855469</td>\n",
       "    </tr>\n",
       "    <tr>\n",
       "      <th>2023-08-18 20:00:00</th>\n",
       "      <td>31938.332031</td>\n",
       "    </tr>\n",
       "    <tr>\n",
       "      <th>...</th>\n",
       "      <td>...</td>\n",
       "    </tr>\n",
       "    <tr>\n",
       "      <th>2024-03-26 20:00:00</th>\n",
       "      <td>66987.101562</td>\n",
       "    </tr>\n",
       "    <tr>\n",
       "      <th>2024-03-27 20:00:00</th>\n",
       "      <td>66672.289062</td>\n",
       "    </tr>\n",
       "    <tr>\n",
       "      <th>2024-03-28 20:00:00</th>\n",
       "      <td>66339.312500</td>\n",
       "    </tr>\n",
       "    <tr>\n",
       "      <th>2024-03-29 20:00:00</th>\n",
       "      <td>66184.335938</td>\n",
       "    </tr>\n",
       "    <tr>\n",
       "      <th>2024-03-30 20:00:00</th>\n",
       "      <td>66197.281250</td>\n",
       "    </tr>\n",
       "  </tbody>\n",
       "</table>\n",
       "<p>230 rows × 1 columns</p>\n",
       "</div>"
      ],
      "text/plain": [
       "                     Predicted price\n",
       "date_time                           \n",
       "2023-08-14 20:00:00     32014.216797\n",
       "2023-08-15 20:00:00     32026.798828\n",
       "2023-08-16 20:00:00     32004.515625\n",
       "2023-08-17 20:00:00     31991.855469\n",
       "2023-08-18 20:00:00     31938.332031\n",
       "...                              ...\n",
       "2024-03-26 20:00:00     66987.101562\n",
       "2024-03-27 20:00:00     66672.289062\n",
       "2024-03-28 20:00:00     66339.312500\n",
       "2024-03-29 20:00:00     66184.335938\n",
       "2024-03-30 20:00:00     66197.281250\n",
       "\n",
       "[230 rows x 1 columns]"
      ]
     },
     "execution_count": 21,
     "metadata": {},
     "output_type": "execute_result"
    }
   ],
   "source": [
    "pred_df"
   ]
  },
  {
   "cell_type": "code",
   "execution_count": null,
   "metadata": {},
   "outputs": [],
   "source": []
  }
 ],
 "metadata": {
  "kernelspec": {
   "display_name": "crypto",
   "language": "python",
   "name": "python3"
  },
  "language_info": {
   "codemirror_mode": {
    "name": "ipython",
    "version": 3
   },
   "file_extension": ".py",
   "mimetype": "text/x-python",
   "name": "python",
   "nbconvert_exporter": "python",
   "pygments_lexer": "ipython3",
   "version": "3.9.15"
  }
 },
 "nbformat": 4,
 "nbformat_minor": 2
}
