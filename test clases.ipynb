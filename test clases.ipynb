{
 "cells": [
  {
   "cell_type": "code",
   "execution_count": 1,
   "metadata": {},
   "outputs": [
    {
     "name": "stderr",
     "output_type": "stream",
     "text": [
      "C:\\Users\\Artem\\AppData\\Local\\Temp\\ipykernel_30540\\3385269794.py:1: DeprecationWarning: \n",
      "Pyarrow will become a required dependency of pandas in the next major release of pandas (pandas 3.0),\n",
      "(to allow more performant data types, such as the Arrow string type, and better interoperability with other libraries)\n",
      "but was not found to be installed on your system.\n",
      "If this would cause problems for you,\n",
      "please provide us feedback at https://github.com/pandas-dev/pandas/issues/54466\n",
      "        \n",
      "  import pandas as pd\n"
     ]
    }
   ],
   "source": [
    "import pandas as pd\n",
    "from pandas import Timestamp as tmpstemp\n",
    "from pandas import Timedelta as tmpdelta\n",
    "import numpy as np\n",
    "\n",
    "from sklearn.preprocessing import MinMaxScaler\n",
    "from tensorflow import keras\n",
    "from keras.layers import Dense, Dropout, LSTM, Input\n",
    "from keras.models import Model\n",
    "from keras.optimizers import Adam\n",
    "from keras.callbacks import EarlyStopping\n",
    "\n",
    "import matplotlib.pyplot as plt\n",
    "\n",
    "from portfolio import Portfolio, Asset\n",
    "\n",
    "import warnings\n",
    "warnings.simplefilter(action='ignore', category=FutureWarning)"
   ]
  },
  {
   "cell_type": "code",
   "execution_count": 2,
   "metadata": {},
   "outputs": [],
   "source": [
    "USD = Asset.make_USD()\n",
    "BTC = Asset('BTC')\n",
    "#BTC.update_history_from_excahnge(currency = 'USD', date_from = tmpstemp('2020-01-01'), date_to = tmpstemp('2024-03-31'))\n",
    "ETH = Asset('ETH')\n",
    "#ETH.update_history_from_excahnge(currency = 'USD', date_from = tmpstemp('2020-01-01'), date_to = tmpstemp('2024-03-31'))\n",
    "USDT = Asset('USDT')\n",
    "#USDT.update_history_from_excahnge(currency = 'USD', date_from = tmpstemp('2021-01-01'), date_to = tmpstemp('2024-03-31'))"
   ]
  },
  {
   "cell_type": "code",
   "execution_count": 3,
   "metadata": {},
   "outputs": [],
   "source": [
    "class Strategy:\n",
    "\n",
    "    def __init__(self, model_input_length = 15):\n",
    "        self.frequency = 1\n",
    "        self.model = Model()\n",
    "        self.input_span = model_input_length\n",
    "        self.scaler = MinMaxScaler(feature_range=(0,1))\n",
    "\n",
    "    def make_suggestion(self, today, portfolio):\n",
    "        risk_rate = 0.02\n",
    "        fee_rate = 0.006\n",
    "        \n",
    "        positions = portfolio.get_positions(today)\n",
    "        suggestions = pd.DataFrame(columns = ['change_in_size', 'USD_value', 'note'], index = positions.index)\n",
    "        data_to_process = BTC.history.loc[today-tmpdelta(days=self.input_span-1):today+tmpdelta(days=1)]\n",
    "        prediction = self.predict_one(data_to_process)\n",
    "        prediction = float(prediction['Predicted price'])\n",
    "\n",
    "        # If BTC is predicted to go up - buy it\n",
    "        if prediction > float(BTC.price_on_date(today)):\n",
    "            USD_to_spend = risk_rate * positions['position_value'].loc['USD']  # In this strategy, we change position by risk_rate% on every step\n",
    "            ext_price = USD_to_spend/(1 + fee_rate)                    # This is how much will be paid for BTC, extended price\n",
    "            fees = USD_to_spend - ext_price                            # This is plaform fees\n",
    "            BTC_price = BTC.history['close'].loc[today]                # BTC price at the time of decision\n",
    "            BTC_to_buy = ext_price/BTC_price\n",
    "            suggestions.loc['BTC'] = [BTC_to_buy, ext_price, 'Buy BTC']\n",
    "            suggestions.loc['USD'] = [-USD_to_spend,-USD_to_spend, 'BTC price w fees']\n",
    "\n",
    "        # If BTC is predicted to go down - sell it\n",
    "        if prediction < float(BTC.price_on_date(today)):\n",
    "            BTC_to_spend = risk_rate * positions['position_size'].loc['BTC']  # In this strategy, we change position by risk_rate% on every step\n",
    "            ext_price = BTC_to_spend/(1 + fee_rate)                    # This is how much BTC will be sold, extended price\n",
    "            fees = BTC_to_spend - ext_price                            # This is plaform fees\n",
    "            BTC_price = BTC.history['close'].loc[today]                # BTC price at the time of decision\n",
    "            USD_to_buy = ext_price*BTC_price\n",
    "            suggestions.loc['BTC'] = [-BTC_to_spend, -BTC_to_spend, 'Sell BTC w fees']\n",
    "            suggestions.loc['USD'] = [USD_to_buy, USD_to_buy, 'BTC sale']\n",
    "            suggestions.dropna(inplace=True)\n",
    "\n",
    "        return suggestions\n",
    "\n",
    "    def backtest(self, hist_data: pd.DataFrame, portfolio: Portfolio):\n",
    "        updated_portfolio = Portfolio()\n",
    "        return updated_portfolio\n",
    "    \n",
    "    def predict_batch(self, data_to_process):\n",
    "        '''\n",
    "        Given the new data go one time point after another and make predictions\n",
    "        '''\n",
    "        prediction_prices = []\n",
    "        pred_prices_idx = []\n",
    "        for tomorrow_date in data_to_process.index[(self.input_span-1):]:\n",
    "            try:\n",
    "                # range(tomorrow - 14: tomorrow) is 15 day-log timespan that end today!\n",
    "                current_day_input = data_to_process.loc[tomorrow_date - tmpdelta(days=self.input_span-1):tomorrow_date]  # Data slice to be used in this step\n",
    "                model_input = self.scaler.transform(np.array(current_day_input.values).reshape(-1,1) )     # Data scaled as input for the model\n",
    "                model_input = np.array(model_input).reshape(-1, model_input.shape[0], model_input.shape[1])                           # Data shaped as input for the model\n",
    "                tmr_BTC_price = self.model.predict(model_input,verbose = 0)                                # Predict\n",
    "                tmr_BTC_price = self.scaler.inverse_transform(tmr_BTC_price)[0][0]                         # Un-scale to get predicted asset price\n",
    "                prediction_prices.append(tmr_BTC_price)                                               # Save the result in the output array\n",
    "                pred_prices_idx.append(tomorrow_date)\n",
    "\n",
    "                # Format string for output\n",
    "                today_day = tomorrow_date-tmpdelta(days=1)                      # Get date we are predictig for \n",
    "                today_BTC_price = data_to_process.loc[today_day]                                             # Get current asset price \n",
    "                # print(f'Today ({today_day}):{today_BTC_price}, predicted for {tomorrow_date}: {tmr_BTC_price}')\n",
    "            except Exception as e:\n",
    "                print(e)\n",
    "                pass\n",
    "        return pd.DataFrame(data=prediction_prices, columns = ['Predicted price'], index = pd.DatetimeIndex(pred_prices_idx, name='date_time'))\n",
    "\n",
    "    def predict_one(self, data_to_process):\n",
    "        '''\n",
    "        Given the data predict for the next timepoint\n",
    "        '''\n",
    "        tomorrow_date = data_to_process.index[-1]+tmpdelta(days=1)\n",
    "        today_day = data_to_process.index[-1]\n",
    "        today_BTC_price = data_to_process.loc[today_day] \n",
    "        try:\n",
    "            model_input = self.scaler.transform(np.array(data_to_process.values).reshape(-1,1) )     # Data scaled as input for the model\n",
    "            model_input = np.array(model_input).reshape(-1, model_input.shape[0], model_input.shape[1])# Data shaped as input for the model\n",
    "            tmr_BTC_price = self.model.predict(model_input,verbose = 0)                                # Predict\n",
    "            tmr_BTC_price = self.scaler.inverse_transform(tmr_BTC_price)[0][0]                         # Un-scale to get predicted asset price\n",
    "\n",
    "            print(f'Today ({today_day}):{today_BTC_price}, predicted for {tomorrow_date}: {tmr_BTC_price}')\n",
    "        except Exception as e:\n",
    "            print(e)\n",
    "            pass\n",
    "        return pd.DataFrame(data=[tmr_BTC_price],\n",
    "                            columns = ['Predicted price'],\n",
    "                            index = pd.DatetimeIndex([tomorrow_date], name='date_time'))\n",
    "\n",
    "    def train_val_split_scale(self, df):\n",
    "        len_train = int(0.7*len(df))\n",
    "        X = []\n",
    "        y = []\n",
    "        scaled_data = self.scaler.fit_transform(np.array(df['close'].values).reshape(-1,1) )\n",
    "        for x in range(self.input_span, len(df)):\n",
    "            X.append(scaled_data[x-self.input_span:x, 0])\n",
    "            y.append(scaled_data[x,0])\n",
    "        X, y = (np.array(X), np.array(y))\n",
    "        X = np.reshape(X, (X.shape[0], X.shape[1], 1))\n",
    "        train_idx = df.index[self.input_span:len_train]\n",
    "        val_index = df.index[len_train:]\n",
    "        print(f'from {train_idx[0]} to {train_idx[-1]}')\n",
    "        return X[0:len_train-self.input_span,:,:], y[0:len_train-self.input_span], train_idx, X[len_train-self.input_span:,:,:], y[len_train-self.input_span:], val_index"
   ]
  },
  {
   "cell_type": "code",
   "execution_count": 4,
   "metadata": {},
   "outputs": [
    {
     "name": "stdout",
     "output_type": "stream",
     "text": [
      "from 2022-01-16 19:00:00 to 2023-07-28 20:00:00\n"
     ]
    }
   ],
   "source": [
    "naive_LSTM = Strategy(model_input_length = 15)\n",
    "date_from = tmpstemp('2022-01-01')\n",
    "x_train, y_train, train_idx, x_val, y_val, val_idx = naive_LSTM.train_val_split_scale(BTC.history.loc[date_from:])"
   ]
  },
  {
   "cell_type": "code",
   "execution_count": 5,
   "metadata": {},
   "outputs": [
    {
     "name": "stdout",
     "output_type": "stream",
     "text": [
      "Model: \"model_1\"\n",
      "_________________________________________________________________\n",
      " Layer (type)                Output Shape              Param #   \n",
      "=================================================================\n",
      " input (InputLayer)          [(None, 15, 1)]           0         \n",
      "                                                                 \n",
      " LSTM1 (LSTM)                (None, 15, 50)            10400     \n",
      "                                                                 \n",
      " dropout (Dropout)           (None, 15, 50)            0         \n",
      "                                                                 \n",
      " LSTM2 (LSTM)                (None, 15, 50)            20200     \n",
      "                                                                 \n",
      " dropout_1 (Dropout)         (None, 15, 50)            0         \n",
      "                                                                 \n",
      " LSTM3 (LSTM)                (None, 50)                20200     \n",
      "                                                                 \n",
      " dropout_2 (Dropout)         (None, 50)                0         \n",
      "                                                                 \n",
      " hidden_layer1 (Dense)       (None, 50)                2550      \n",
      "                                                                 \n",
      " dropout_3 (Dropout)         (None, 50)                0         \n",
      "                                                                 \n",
      " Regression_layer (Dense)    (None, 1)                 51        \n",
      "                                                                 \n",
      "=================================================================\n",
      "Total params: 53,401\n",
      "Trainable params: 53,401\n",
      "Non-trainable params: 0\n",
      "_________________________________________________________________\n"
     ]
    }
   ],
   "source": [
    "hidden_size = 50\n",
    "dropout = 0.3\n",
    "learning_rate = 0.0005\n",
    "\n",
    "input_layer = Input(shape=(x_train.shape[1], x_train.shape[2]), name = 'input')\n",
    "\n",
    "LSTM1 = LSTM(units = 50, activation='tanh', return_sequences=True, name = 'LSTM1' )(input_layer)\n",
    "LSTM1 = Dropout(dropout)(LSTM1)\n",
    "\n",
    "LSTM2 = LSTM(units = 50, activation='tanh', return_sequences=True, name = 'LSTM2' )(LSTM1)\n",
    "LSTM2 = Dropout(dropout)(LSTM2)\n",
    "\n",
    "LSTM3 = LSTM(units = 50, activation='tanh', name = 'LSTM3' )(LSTM2)\n",
    "LSTM3 = Dropout(dropout)(LSTM3)\n",
    "\n",
    "hidden1 = Dense(hidden_size, activation='relu', name='hidden_layer1')(LSTM3)\n",
    "hidden1 = Dropout(dropout)(hidden1)\n",
    "\n",
    "\n",
    "# Create output layer\n",
    "out = Dense(1, activation='linear', name = 'Regression_layer')(hidden1)\n",
    "model = Model(inputs=[input_layer], outputs=out)\n",
    "\n",
    "\n",
    "model.compile(optimizer=Adam(learning_rate),\n",
    "              loss=keras.losses.mean_squared_error,\n",
    "              metrics=[keras.metrics.mean_squared_error])\n",
    "naive_LSTM.model = model\n",
    "naive_LSTM.model.summary()"
   ]
  },
  {
   "cell_type": "code",
   "execution_count": 6,
   "metadata": {},
   "outputs": [
    {
     "name": "stdout",
     "output_type": "stream",
     "text": [
      "Epoch 1/20\n",
      "9/9 [==============================] - 25s 645ms/step - loss: 0.0362 - mean_squared_error: 0.0362 - val_loss: 0.0697 - val_mean_squared_error: 0.0697\n",
      "Epoch 2/20\n",
      "9/9 [==============================] - 1s 91ms/step - loss: 0.0127 - mean_squared_error: 0.0127 - val_loss: 0.0145 - val_mean_squared_error: 0.0145\n",
      "Epoch 3/20\n",
      "9/9 [==============================] - 1s 104ms/step - loss: 0.0084 - mean_squared_error: 0.0084 - val_loss: 0.0348 - val_mean_squared_error: 0.0348\n",
      "Epoch 4/20\n",
      "9/9 [==============================] - 1s 100ms/step - loss: 0.0067 - mean_squared_error: 0.0067 - val_loss: 0.0070 - val_mean_squared_error: 0.0070\n",
      "Epoch 5/20\n",
      "9/9 [==============================] - 1s 113ms/step - loss: 0.0047 - mean_squared_error: 0.0047 - val_loss: 0.0053 - val_mean_squared_error: 0.0053\n",
      "Epoch 6/20\n",
      "9/9 [==============================] - 1s 92ms/step - loss: 0.0051 - mean_squared_error: 0.0051 - val_loss: 0.0038 - val_mean_squared_error: 0.0038\n",
      "Epoch 7/20\n",
      "9/9 [==============================] - 1s 90ms/step - loss: 0.0055 - mean_squared_error: 0.0055 - val_loss: 0.0079 - val_mean_squared_error: 0.0079\n",
      "Epoch 8/20\n",
      "9/9 [==============================] - 1s 93ms/step - loss: 0.0045 - mean_squared_error: 0.0045 - val_loss: 0.0066 - val_mean_squared_error: 0.0066\n",
      "Epoch 9/20\n",
      "9/9 [==============================] - 1s 112ms/step - loss: 0.0039 - mean_squared_error: 0.0039 - val_loss: 0.0072 - val_mean_squared_error: 0.0072\n",
      "Epoch 10/20\n",
      "9/9 [==============================] - 1s 111ms/step - loss: 0.0045 - mean_squared_error: 0.0045 - val_loss: 0.0080 - val_mean_squared_error: 0.0080\n",
      "Epoch 11/20\n",
      "9/9 [==============================] - 1s 117ms/step - loss: 0.0043 - mean_squared_error: 0.0043 - val_loss: 0.0058 - val_mean_squared_error: 0.0058\n"
     ]
    },
    {
     "data": {
      "text/plain": [
       "<keras.callbacks.History at 0x26dd0d83c70>"
      ]
     },
     "execution_count": 6,
     "metadata": {},
     "output_type": "execute_result"
    }
   ],
   "source": [
    "#Set up early stopping monitor\n",
    "early_stopping = EarlyStopping(monitor='val_mean_squared_error',\n",
    "                               patience=5,\n",
    "                               mode = \"auto\",\n",
    "                               restore_best_weights=True)\n",
    "\n",
    "naive_LSTM.model.fit([x_train], y_train, \n",
    "          validation_data=([x_val], y_val),\n",
    "          epochs=20, batch_size=64,\n",
    "          callbacks=[early_stopping])\n"
   ]
  },
  {
   "cell_type": "code",
   "execution_count": 7,
   "metadata": {},
   "outputs": [
    {
     "name": "stdout",
     "output_type": "stream",
     "text": [
      "Timestamp('2023-11-04 19:00:00')\n",
      "Timestamp('2024-03-09 20:00:00')\n"
     ]
    }
   ],
   "source": [
    "pred_df = naive_LSTM.predict_batch(data_to_process = BTC.history['close'].loc[val_idx[0]-tmpdelta(days=15):])"
   ]
  },
  {
   "cell_type": "code",
   "execution_count": 8,
   "metadata": {},
   "outputs": [
    {
     "data": {
      "text/plain": [
       "\"\\npredicted = {}\\ncurrent = {}\\n\\n# Given the new data go one time point after another and make predictions \\nfor x in range(1,len(val_idx)):\\n    model_input = x_val[x,:,:].reshape(1,input_span,1)                       # Data shaped as input for the model\\n    pred_BTC_price = naive_LSTM.model.predict(model_input, verbose=0)                                # Predict\\n    pred_BTC_price = scaler.inverse_transform(pred_BTC_price)[0][0]                        # Un-scale to get predicted asset price\\n\\n    # Format string for output\\n    current_date = val_idx[x-1]\\n    predicted_for_date = val_idx[x]                   # Get date we are predictig for \\n    curr_BTC_price = BTC.history['close'].loc[current_date]                                             # Get current asset price \\n    #print(f'Today ({val_idx[x]}):{curr_BTC_price}, predicted for {predicted_for_date}: {pred_BTC_price}')\\n    predicted[predicted_for_date] = pred_BTC_price\\n    current[current_date] = curr_BTC_price                                               # Save the result in the output array\\npredicted_df = pd.DataFrame(columns = ['predicted'], data = predicted.values(), index = pd.DatetimeIndex(predicted.keys(), name = 'date_time'))\\ncurrent_df = pd.DataFrame(columns = ['current'], data = current.values(), index = pd.DatetimeIndex(current.keys(), name = 'date_time'))\\ndf_to_plot = pd.merge(current_df, predicted_df, left_index=True, right_index=True)\\ndf_to_plot.head()\\n\""
      ]
     },
     "execution_count": 8,
     "metadata": {},
     "output_type": "execute_result"
    }
   ],
   "source": [
    "'''\n",
    "predicted = {}\n",
    "current = {}\n",
    "\n",
    "# Given the new data go one time point after another and make predictions \n",
    "for x in range(1,len(val_idx)):\n",
    "    model_input = x_val[x,:,:].reshape(1,input_span,1)                       # Data shaped as input for the model\n",
    "    pred_BTC_price = naive_LSTM.model.predict(model_input, verbose=0)                                # Predict\n",
    "    pred_BTC_price = scaler.inverse_transform(pred_BTC_price)[0][0]                        # Un-scale to get predicted asset price\n",
    "\n",
    "    # Format string for output\n",
    "    current_date = val_idx[x-1]\n",
    "    predicted_for_date = val_idx[x]                   # Get date we are predictig for \n",
    "    curr_BTC_price = BTC.history['close'].loc[current_date]                                             # Get current asset price \n",
    "    #print(f'Today ({val_idx[x]}):{curr_BTC_price}, predicted for {predicted_for_date}: {pred_BTC_price}')\n",
    "    predicted[predicted_for_date] = pred_BTC_price\n",
    "    current[current_date] = curr_BTC_price                                               # Save the result in the output array\n",
    "predicted_df = pd.DataFrame(columns = ['predicted'], data = predicted.values(), index = pd.DatetimeIndex(predicted.keys(), name = 'date_time'))\n",
    "current_df = pd.DataFrame(columns = ['current'], data = current.values(), index = pd.DatetimeIndex(current.keys(), name = 'date_time'))\n",
    "df_to_plot = pd.merge(current_df, predicted_df, left_index=True, right_index=True)\n",
    "df_to_plot.head()\n",
    "'''"
   ]
  },
  {
   "cell_type": "code",
   "execution_count": 9,
   "metadata": {},
   "outputs": [],
   "source": [
    "my_portfolio = Portfolio(origination_date=(pred_df.index[0] - tmpdelta(days=1)),\n",
    "                         initial_deposit= 0.5* BTC.price_on_date(pred_df.index[0] - tmpdelta(days=1)))\n",
    "my_portfolio.update_transactions(ticker='BTC',\n",
    "                                qty = 0.5,\n",
    "                                transaction_date=(pred_df.index[0] - tmpdelta(days=1)),\n",
    "                                note = 'Initial deposit' )\n",
    "\n",
    "ref_portfolio = Portfolio(origination_date=(pred_df.index[0] - tmpdelta(days=1)),\n",
    "                         initial_deposit= 0.5* BTC.price_on_date(pred_df.index[0] - tmpdelta(days=1)))\n",
    "ref_portfolio.update_transactions(ticker='BTC',\n",
    "                                qty = 0.5,\n",
    "                                transaction_date=(pred_df.index[0] - tmpdelta(days=1)),\n",
    "                                note = 'Initial deposit' )"
   ]
  },
  {
   "cell_type": "code",
   "execution_count": 10,
   "metadata": {},
   "outputs": [
    {
     "ename": "ZeroDivisionError",
     "evalue": "float division by zero",
     "output_type": "error",
     "traceback": [
      "\u001b[1;31m---------------------------------------------------------------------------\u001b[0m",
      "\u001b[1;31mZeroDivisionError\u001b[0m                         Traceback (most recent call last)",
      "Cell \u001b[1;32mIn[10], line 11\u001b[0m\n\u001b[0;32m      9\u001b[0m     today \u001b[38;5;241m=\u001b[39m pred_df\u001b[38;5;241m.\u001b[39mindex[x]\n\u001b[0;32m     10\u001b[0m     tomorrow \u001b[38;5;241m=\u001b[39m pred_df\u001b[38;5;241m.\u001b[39mindex[x\u001b[38;5;241m+\u001b[39m\u001b[38;5;241m1\u001b[39m]\n\u001b[1;32m---> 11\u001b[0m     suggestion \u001b[38;5;241m=\u001b[39m \u001b[43mnaive_LSTM\u001b[49m\u001b[38;5;241;43m.\u001b[39;49m\u001b[43mmake_suggestion\u001b[49m\u001b[43m(\u001b[49m\u001b[43mtoday\u001b[49m\u001b[43m,\u001b[49m\u001b[43m \u001b[49m\u001b[43mmy_portfolio\u001b[49m\u001b[43m)\u001b[49m\n\u001b[0;32m     12\u001b[0m     execute_suggestions(suggestion, my_portfolio)\n\u001b[0;32m     14\u001b[0m my_portfolio\u001b[38;5;241m.\u001b[39mupdate_value(up_to\u001b[38;5;241m=\u001b[39mpred_df\u001b[38;5;241m.\u001b[39mindex[\u001b[38;5;241m-\u001b[39m\u001b[38;5;241m1\u001b[39m])\n",
      "Cell \u001b[1;32mIn[3], line 13\u001b[0m, in \u001b[0;36mStrategy.make_suggestion\u001b[1;34m(self, today, portfolio)\u001b[0m\n\u001b[0;32m     10\u001b[0m risk_rate \u001b[38;5;241m=\u001b[39m \u001b[38;5;241m0.02\u001b[39m\n\u001b[0;32m     11\u001b[0m fee_rate \u001b[38;5;241m=\u001b[39m \u001b[38;5;241m0.006\u001b[39m\n\u001b[1;32m---> 13\u001b[0m positions \u001b[38;5;241m=\u001b[39m \u001b[43mportfolio\u001b[49m\u001b[38;5;241;43m.\u001b[39;49m\u001b[43mget_positions\u001b[49m\u001b[43m(\u001b[49m\u001b[43mtoday\u001b[49m\u001b[43m)\u001b[49m\n\u001b[0;32m     14\u001b[0m suggestions \u001b[38;5;241m=\u001b[39m pd\u001b[38;5;241m.\u001b[39mDataFrame(columns \u001b[38;5;241m=\u001b[39m [\u001b[38;5;124m'\u001b[39m\u001b[38;5;124mchange_in_size\u001b[39m\u001b[38;5;124m'\u001b[39m, \u001b[38;5;124m'\u001b[39m\u001b[38;5;124mUSD_value\u001b[39m\u001b[38;5;124m'\u001b[39m, \u001b[38;5;124m'\u001b[39m\u001b[38;5;124mnote\u001b[39m\u001b[38;5;124m'\u001b[39m], index \u001b[38;5;241m=\u001b[39m positions\u001b[38;5;241m.\u001b[39mindex)\n\u001b[0;32m     15\u001b[0m data_to_process \u001b[38;5;241m=\u001b[39m BTC\u001b[38;5;241m.\u001b[39mhistory\u001b[38;5;241m.\u001b[39mloc[today\u001b[38;5;241m-\u001b[39mtmpdelta(days\u001b[38;5;241m=\u001b[39m\u001b[38;5;28mself\u001b[39m\u001b[38;5;241m.\u001b[39minput_span\u001b[38;5;241m-\u001b[39m\u001b[38;5;241m1\u001b[39m):today\u001b[38;5;241m+\u001b[39mtmpdelta(days\u001b[38;5;241m=\u001b[39m\u001b[38;5;241m1\u001b[39m)]\n",
      "File \u001b[1;32mc:\\Users\\Artem\\Documents\\Source_Code\\crypto\\portfolio.py:135\u001b[0m, in \u001b[0;36mPortfolio.get_positions\u001b[1;34m(self, on_date)\u001b[0m\n\u001b[0;32m    133\u001b[0m positions[\u001b[38;5;124m'\u001b[39m\u001b[38;5;124mposition_value\u001b[39m\u001b[38;5;124m'\u001b[39m] \u001b[38;5;241m=\u001b[39m positions[\u001b[38;5;124m'\u001b[39m\u001b[38;5;124mposition_value\u001b[39m\u001b[38;5;124m'\u001b[39m]\u001b[38;5;241m*\u001b[39mpositions[\u001b[38;5;124m'\u001b[39m\u001b[38;5;124mposition_size\u001b[39m\u001b[38;5;124m'\u001b[39m]\n\u001b[0;32m    134\u001b[0m total_value \u001b[38;5;241m=\u001b[39m positions[\u001b[38;5;124m'\u001b[39m\u001b[38;5;124mposition_value\u001b[39m\u001b[38;5;124m'\u001b[39m]\u001b[38;5;241m.\u001b[39msum()\n\u001b[1;32m--> 135\u001b[0m positions[\u001b[38;5;124m'\u001b[39m\u001b[38;5;124mallocations\u001b[39m\u001b[38;5;124m'\u001b[39m] \u001b[38;5;241m=\u001b[39m \u001b[43mpositions\u001b[49m\u001b[43m[\u001b[49m\u001b[38;5;124;43m'\u001b[39;49m\u001b[38;5;124;43mposition_value\u001b[39;49m\u001b[38;5;124;43m'\u001b[39;49m\u001b[43m]\u001b[49m\u001b[38;5;241;43m/\u001b[39;49m\u001b[43mtotal_value\u001b[49m\n\u001b[0;32m    136\u001b[0m \u001b[38;5;28;01mreturn\u001b[39;00m positions\n",
      "File \u001b[1;32mc:\\Users\\Artem\\miniconda3\\envs\\crypto\\lib\\site-packages\\pandas\\core\\ops\\common.py:76\u001b[0m, in \u001b[0;36m_unpack_zerodim_and_defer.<locals>.new_method\u001b[1;34m(self, other)\u001b[0m\n\u001b[0;32m     72\u001b[0m             \u001b[38;5;28;01mreturn\u001b[39;00m \u001b[38;5;28mNotImplemented\u001b[39m\n\u001b[0;32m     74\u001b[0m other \u001b[38;5;241m=\u001b[39m item_from_zerodim(other)\n\u001b[1;32m---> 76\u001b[0m \u001b[38;5;28;01mreturn\u001b[39;00m \u001b[43mmethod\u001b[49m\u001b[43m(\u001b[49m\u001b[38;5;28;43mself\u001b[39;49m\u001b[43m,\u001b[49m\u001b[43m \u001b[49m\u001b[43mother\u001b[49m\u001b[43m)\u001b[49m\n",
      "File \u001b[1;32mc:\\Users\\Artem\\miniconda3\\envs\\crypto\\lib\\site-packages\\pandas\\core\\arraylike.py:210\u001b[0m, in \u001b[0;36mOpsMixin.__truediv__\u001b[1;34m(self, other)\u001b[0m\n\u001b[0;32m    208\u001b[0m \u001b[38;5;129m@unpack_zerodim_and_defer\u001b[39m(\u001b[38;5;124m\"\u001b[39m\u001b[38;5;124m__truediv__\u001b[39m\u001b[38;5;124m\"\u001b[39m)\n\u001b[0;32m    209\u001b[0m \u001b[38;5;28;01mdef\u001b[39;00m \u001b[38;5;21m__truediv__\u001b[39m(\u001b[38;5;28mself\u001b[39m, other):\n\u001b[1;32m--> 210\u001b[0m     \u001b[38;5;28;01mreturn\u001b[39;00m \u001b[38;5;28;43mself\u001b[39;49m\u001b[38;5;241;43m.\u001b[39;49m\u001b[43m_arith_method\u001b[49m\u001b[43m(\u001b[49m\u001b[43mother\u001b[49m\u001b[43m,\u001b[49m\u001b[43m \u001b[49m\u001b[43moperator\u001b[49m\u001b[38;5;241;43m.\u001b[39;49m\u001b[43mtruediv\u001b[49m\u001b[43m)\u001b[49m\n",
      "File \u001b[1;32mc:\\Users\\Artem\\miniconda3\\envs\\crypto\\lib\\site-packages\\pandas\\core\\series.py:6115\u001b[0m, in \u001b[0;36mSeries._arith_method\u001b[1;34m(self, other, op)\u001b[0m\n\u001b[0;32m   6113\u001b[0m \u001b[38;5;28;01mdef\u001b[39;00m \u001b[38;5;21m_arith_method\u001b[39m(\u001b[38;5;28mself\u001b[39m, other, op):\n\u001b[0;32m   6114\u001b[0m     \u001b[38;5;28mself\u001b[39m, other \u001b[38;5;241m=\u001b[39m \u001b[38;5;28mself\u001b[39m\u001b[38;5;241m.\u001b[39m_align_for_op(other)\n\u001b[1;32m-> 6115\u001b[0m     \u001b[38;5;28;01mreturn\u001b[39;00m \u001b[43mbase\u001b[49m\u001b[38;5;241;43m.\u001b[39;49m\u001b[43mIndexOpsMixin\u001b[49m\u001b[38;5;241;43m.\u001b[39;49m\u001b[43m_arith_method\u001b[49m\u001b[43m(\u001b[49m\u001b[38;5;28;43mself\u001b[39;49m\u001b[43m,\u001b[49m\u001b[43m \u001b[49m\u001b[43mother\u001b[49m\u001b[43m,\u001b[49m\u001b[43m \u001b[49m\u001b[43mop\u001b[49m\u001b[43m)\u001b[49m\n",
      "File \u001b[1;32mc:\\Users\\Artem\\miniconda3\\envs\\crypto\\lib\\site-packages\\pandas\\core\\base.py:1382\u001b[0m, in \u001b[0;36mIndexOpsMixin._arith_method\u001b[1;34m(self, other, op)\u001b[0m\n\u001b[0;32m   1379\u001b[0m     rvalues \u001b[38;5;241m=\u001b[39m np\u001b[38;5;241m.\u001b[39marange(rvalues\u001b[38;5;241m.\u001b[39mstart, rvalues\u001b[38;5;241m.\u001b[39mstop, rvalues\u001b[38;5;241m.\u001b[39mstep)\n\u001b[0;32m   1381\u001b[0m \u001b[38;5;28;01mwith\u001b[39;00m np\u001b[38;5;241m.\u001b[39merrstate(\u001b[38;5;28mall\u001b[39m\u001b[38;5;241m=\u001b[39m\u001b[38;5;124m\"\u001b[39m\u001b[38;5;124mignore\u001b[39m\u001b[38;5;124m\"\u001b[39m):\n\u001b[1;32m-> 1382\u001b[0m     result \u001b[38;5;241m=\u001b[39m \u001b[43mops\u001b[49m\u001b[38;5;241;43m.\u001b[39;49m\u001b[43marithmetic_op\u001b[49m\u001b[43m(\u001b[49m\u001b[43mlvalues\u001b[49m\u001b[43m,\u001b[49m\u001b[43m \u001b[49m\u001b[43mrvalues\u001b[49m\u001b[43m,\u001b[49m\u001b[43m \u001b[49m\u001b[43mop\u001b[49m\u001b[43m)\u001b[49m\n\u001b[0;32m   1384\u001b[0m \u001b[38;5;28;01mreturn\u001b[39;00m \u001b[38;5;28mself\u001b[39m\u001b[38;5;241m.\u001b[39m_construct_result(result, name\u001b[38;5;241m=\u001b[39mres_name)\n",
      "File \u001b[1;32mc:\\Users\\Artem\\miniconda3\\envs\\crypto\\lib\\site-packages\\pandas\\core\\ops\\array_ops.py:283\u001b[0m, in \u001b[0;36marithmetic_op\u001b[1;34m(left, right, op)\u001b[0m\n\u001b[0;32m    279\u001b[0m     _bool_arith_check(op, left, right)  \u001b[38;5;66;03m# type: ignore[arg-type]\u001b[39;00m\n\u001b[0;32m    281\u001b[0m     \u001b[38;5;66;03m# error: Argument 1 to \"_na_arithmetic_op\" has incompatible type\u001b[39;00m\n\u001b[0;32m    282\u001b[0m     \u001b[38;5;66;03m# \"Union[ExtensionArray, ndarray[Any, Any]]\"; expected \"ndarray[Any, Any]\"\u001b[39;00m\n\u001b[1;32m--> 283\u001b[0m     res_values \u001b[38;5;241m=\u001b[39m \u001b[43m_na_arithmetic_op\u001b[49m\u001b[43m(\u001b[49m\u001b[43mleft\u001b[49m\u001b[43m,\u001b[49m\u001b[43m \u001b[49m\u001b[43mright\u001b[49m\u001b[43m,\u001b[49m\u001b[43m \u001b[49m\u001b[43mop\u001b[49m\u001b[43m)\u001b[49m  \u001b[38;5;66;03m# type: ignore[arg-type]\u001b[39;00m\n\u001b[0;32m    285\u001b[0m \u001b[38;5;28;01mreturn\u001b[39;00m res_values\n",
      "File \u001b[1;32mc:\\Users\\Artem\\miniconda3\\envs\\crypto\\lib\\site-packages\\pandas\\core\\ops\\array_ops.py:218\u001b[0m, in \u001b[0;36m_na_arithmetic_op\u001b[1;34m(left, right, op, is_cmp)\u001b[0m\n\u001b[0;32m    215\u001b[0m     func \u001b[38;5;241m=\u001b[39m partial(expressions\u001b[38;5;241m.\u001b[39mevaluate, op)\n\u001b[0;32m    217\u001b[0m \u001b[38;5;28;01mtry\u001b[39;00m:\n\u001b[1;32m--> 218\u001b[0m     result \u001b[38;5;241m=\u001b[39m \u001b[43mfunc\u001b[49m\u001b[43m(\u001b[49m\u001b[43mleft\u001b[49m\u001b[43m,\u001b[49m\u001b[43m \u001b[49m\u001b[43mright\u001b[49m\u001b[43m)\u001b[49m\n\u001b[0;32m    219\u001b[0m \u001b[38;5;28;01mexcept\u001b[39;00m \u001b[38;5;167;01mTypeError\u001b[39;00m:\n\u001b[0;32m    220\u001b[0m     \u001b[38;5;28;01mif\u001b[39;00m \u001b[38;5;129;01mnot\u001b[39;00m is_cmp \u001b[38;5;129;01mand\u001b[39;00m (\n\u001b[0;32m    221\u001b[0m         left\u001b[38;5;241m.\u001b[39mdtype \u001b[38;5;241m==\u001b[39m \u001b[38;5;28mobject\u001b[39m \u001b[38;5;129;01mor\u001b[39;00m \u001b[38;5;28mgetattr\u001b[39m(right, \u001b[38;5;124m\"\u001b[39m\u001b[38;5;124mdtype\u001b[39m\u001b[38;5;124m\"\u001b[39m, \u001b[38;5;28;01mNone\u001b[39;00m) \u001b[38;5;241m==\u001b[39m \u001b[38;5;28mobject\u001b[39m\n\u001b[0;32m    222\u001b[0m     ):\n\u001b[1;32m   (...)\u001b[0m\n\u001b[0;32m    225\u001b[0m         \u001b[38;5;66;03m# Don't do this for comparisons, as that will handle complex numbers\u001b[39;00m\n\u001b[0;32m    226\u001b[0m         \u001b[38;5;66;03m#  incorrectly, see GH#32047\u001b[39;00m\n",
      "File \u001b[1;32mc:\\Users\\Artem\\miniconda3\\envs\\crypto\\lib\\site-packages\\pandas\\core\\computation\\expressions.py:242\u001b[0m, in \u001b[0;36mevaluate\u001b[1;34m(op, a, b, use_numexpr)\u001b[0m\n\u001b[0;32m    239\u001b[0m \u001b[38;5;28;01mif\u001b[39;00m op_str \u001b[38;5;129;01mis\u001b[39;00m \u001b[38;5;129;01mnot\u001b[39;00m \u001b[38;5;28;01mNone\u001b[39;00m:\n\u001b[0;32m    240\u001b[0m     \u001b[38;5;28;01mif\u001b[39;00m use_numexpr:\n\u001b[0;32m    241\u001b[0m         \u001b[38;5;66;03m# error: \"None\" not callable\u001b[39;00m\n\u001b[1;32m--> 242\u001b[0m         \u001b[38;5;28;01mreturn\u001b[39;00m \u001b[43m_evaluate\u001b[49m\u001b[43m(\u001b[49m\u001b[43mop\u001b[49m\u001b[43m,\u001b[49m\u001b[43m \u001b[49m\u001b[43mop_str\u001b[49m\u001b[43m,\u001b[49m\u001b[43m \u001b[49m\u001b[43ma\u001b[49m\u001b[43m,\u001b[49m\u001b[43m \u001b[49m\u001b[43mb\u001b[49m\u001b[43m)\u001b[49m  \u001b[38;5;66;03m# type: ignore[misc]\u001b[39;00m\n\u001b[0;32m    243\u001b[0m \u001b[38;5;28;01mreturn\u001b[39;00m _evaluate_standard(op, op_str, a, b)\n",
      "File \u001b[1;32mc:\\Users\\Artem\\miniconda3\\envs\\crypto\\lib\\site-packages\\pandas\\core\\computation\\expressions.py:73\u001b[0m, in \u001b[0;36m_evaluate_standard\u001b[1;34m(op, op_str, a, b)\u001b[0m\n\u001b[0;32m     71\u001b[0m \u001b[38;5;28;01mif\u001b[39;00m _TEST_MODE:\n\u001b[0;32m     72\u001b[0m     _store_test_result(\u001b[38;5;28;01mFalse\u001b[39;00m)\n\u001b[1;32m---> 73\u001b[0m \u001b[38;5;28;01mreturn\u001b[39;00m \u001b[43mop\u001b[49m\u001b[43m(\u001b[49m\u001b[43ma\u001b[49m\u001b[43m,\u001b[49m\u001b[43m \u001b[49m\u001b[43mb\u001b[49m\u001b[43m)\u001b[49m\n",
      "\u001b[1;31mZeroDivisionError\u001b[0m: float division by zero"
     ]
    }
   ],
   "source": [
    "\n",
    "\n",
    "def execute_suggestions(suggestions, portfolio):\n",
    "    for ticker in suggestions.index:\n",
    "        portfolio.update_transactions(ticker = str(ticker),\n",
    "                                    qty =  suggestions['change_in_size'].loc[ticker],\n",
    "                                    transaction_date = today,\n",
    "                                    note =  suggestions['note'].loc[ticker])\n",
    "\n",
    "for x in range (len(pred_df)-1):\n",
    "    today = pred_df.index[x]\n",
    "    tomorrow = pred_df.index[x+1]\n",
    "    suggestion = naive_LSTM.make_suggestion(today, my_portfolio)\n",
    "    execute_suggestions(suggestion, my_portfolio)\n",
    "\n",
    "my_portfolio.update_value(up_to=pred_df.index[-1])\n",
    "\n",
    "ref_portfolio.update_value(up_to=pred_df.index[-1])"
   ]
  },
  {
   "cell_type": "code",
   "execution_count": null,
   "metadata": {},
   "outputs": [
    {
     "name": "stdout",
     "output_type": "stream",
     "text": [
      "Today (2022-12-21 19:00:00):high      16868.820000\n",
      "low       16560.840000\n",
      "open      16825.180000\n",
      "close     16815.510000\n",
      "volume    21269.767398\n",
      "Name: 2022-12-21 19:00:00, dtype: float64, predicted for 2022-12-22 19:00:00: 21711.939453125\n"
     ]
    },
    {
     "data": {
      "text/plain": [
       "21711.939453125"
      ]
     },
     "execution_count": 37,
     "metadata": {},
     "output_type": "execute_result"
    }
   ],
   "source": [
    "today = tmpstemp('2022-12-21')\n",
    "data_to_process = BTC.history.loc[today-tmpdelta(days=14):today+tmpdelta(days=1)]\n",
    "prediction = naive_LSTM.predict_one(data_to_process)\n",
    "float(prediction['Predicted price'])"
   ]
  },
  {
   "cell_type": "code",
   "execution_count": null,
   "metadata": {},
   "outputs": [
    {
     "data": {
      "image/png": "[encoded data removed]",
      "text/plain": [
       "<Figure size 800x400 with 2 Axes>"
      ]
     },
     "metadata": {},
     "output_type": "display_data"
    }
   ],
   "source": [
    "# Plot the results\n",
    "fig, ax = plt.subplots(1, 2)\n",
    "fig.set_figheight(4)\n",
    "fig.set_figwidth(8)\n",
    "actual_df = BTC.history.loc[pred_df.index[0]: pred_df.index[-1]]\n",
    "ax[0].plot(actual_df.index, actual_df['close'], color = 'black', label = 'Actual')\n",
    "ax[0].plot(pred_df.index, pred_df['Predicted price'], color = 'green', label = 'Predicted')\n",
    "ax[0].plot(my_portfolio.value.index, my_portfolio.value['value'], color = 'red', label = 'Experimental Portfolio')\n",
    "ax[0].plot(ref_portfolio.value.index, ref_portfolio.value['value'], color = 'blue', label = 'Reference Portfolio')\n",
    "for tick in ax[0].get_xticklabels():\n",
    "        tick.set_rotation(45)\n",
    "\n",
    "ax[1].plot(my_portfolio.value.index, (my_portfolio.value['value'] - ref_portfolio.value['value'])/ref_portfolio.value['value'], color = 'black', label = 'ROI')\n",
    "for tick in ax[1].get_xticklabels():\n",
    "        tick.set_rotation(45)"
   ]
  },
  {
   "cell_type": "code",
   "execution_count": null,
   "metadata": {},
   "outputs": [],
   "source": []
  }
 ],
 "metadata": {
  "kernelspec": {
   "display_name": "crypto",
   "language": "python",
   "name": "python3"
  },
  "language_info": {
   "codemirror_mode": {
    "name": "ipython",
    "version": 3
   },
   "file_extension": ".py",
   "mimetype": "text/x-python",
   "name": "python",
   "nbconvert_exporter": "python",
   "pygments_lexer": "ipython3",
   "version": "3.9.15"
  }
 },
 "nbformat": 4,
 "nbformat_minor": 2
}
