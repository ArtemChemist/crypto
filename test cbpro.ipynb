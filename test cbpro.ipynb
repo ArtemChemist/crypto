{
 "cells": [
  {
   "cell_type": "markdown",
   "metadata": {},
   "source": [
    "## Test of cbpro library"
   ]
  },
  {
   "cell_type": "code",
   "execution_count": 31,
   "metadata": {},
   "outputs": [],
   "source": [
    "with open('CoinBaseAPIKey.key', 'r') as f:\n",
    "    contents = f.readlines()\n",
    "cb_key = contents[0].split(':')[-1].strip()\n",
    "cb_secret = contents[1].split(':')[-1].strip()"
   ]
  },
  {
   "cell_type": "code",
   "execution_count": 34,
   "metadata": {},
   "outputs": [],
   "source": [
    "import cbpro\n",
    "\n",
    "public_client = cbpro.PublicClient()\n",
    "\n",
    "BTC_USDT = public_client.get_product_historic_rates('BTC-USDT', '2023-01-01', '2023-06-01', 86400)\n",
    "ETH_USDT = public_client.get_product_historic_rates('ETH-USDT', '2023-01-01', '2023-06-01', 86400)\n",
    "XRP_USDT = public_client.get_product_historic_rates('XRP-USDT', '2023-01-01', '2023-06-01', 86400)"
   ]
  },
  {
   "cell_type": "code",
   "execution_count": 30,
   "metadata": {},
   "outputs": [
    {
     "data": {
      "text/html": [
       "<div>\n",
       "<style scoped>\n",
       "    .dataframe tbody tr th:only-of-type {\n",
       "        vertical-align: middle;\n",
       "    }\n",
       "\n",
       "    .dataframe tbody tr th {\n",
       "        vertical-align: top;\n",
       "    }\n",
       "\n",
       "    .dataframe thead th {\n",
       "        text-align: right;\n",
       "    }\n",
       "</style>\n",
       "<table border=\"1\" class=\"dataframe\">\n",
       "  <thead>\n",
       "    <tr style=\"text-align: right;\">\n",
       "      <th></th>\n",
       "      <th>date</th>\n",
       "      <th>low</th>\n",
       "      <th>high</th>\n",
       "      <th>open</th>\n",
       "      <th>close</th>\n",
       "      <th>volume</th>\n",
       "    </tr>\n",
       "  </thead>\n",
       "  <tbody>\n",
       "    <tr>\n",
       "      <th>0</th>\n",
       "      <td>2023-05-31</td>\n",
       "      <td>26611.84</td>\n",
       "      <td>27351.09</td>\n",
       "      <td>27220.14</td>\n",
       "      <td>26822.11</td>\n",
       "      <td>567.223972</td>\n",
       "    </tr>\n",
       "    <tr>\n",
       "      <th>1</th>\n",
       "      <td>2023-05-30</td>\n",
       "      <td>26841.45</td>\n",
       "      <td>27838.36</td>\n",
       "      <td>27689.23</td>\n",
       "      <td>27215.28</td>\n",
       "      <td>991.007433</td>\n",
       "    </tr>\n",
       "    <tr>\n",
       "      <th>2</th>\n",
       "      <td>2023-05-29</td>\n",
       "      <td>27552.65</td>\n",
       "      <td>28040.51</td>\n",
       "      <td>27736.03</td>\n",
       "      <td>27695.30</td>\n",
       "      <td>502.509372</td>\n",
       "    </tr>\n",
       "    <tr>\n",
       "      <th>3</th>\n",
       "      <td>2023-05-28</td>\n",
       "      <td>27530.82</td>\n",
       "      <td>28451.62</td>\n",
       "      <td>28081.19</td>\n",
       "      <td>27736.96</td>\n",
       "      <td>673.158599</td>\n",
       "    </tr>\n",
       "    <tr>\n",
       "      <th>4</th>\n",
       "      <td>2023-05-27</td>\n",
       "      <td>26775.89</td>\n",
       "      <td>28271.94</td>\n",
       "      <td>26859.82</td>\n",
       "      <td>28082.01</td>\n",
       "      <td>712.806237</td>\n",
       "    </tr>\n",
       "  </tbody>\n",
       "</table>\n",
       "</div>"
      ],
      "text/plain": [
       "         date       low      high      open     close      volume\n",
       "0  2023-05-31  26611.84  27351.09  27220.14  26822.11  567.223972\n",
       "1  2023-05-30  26841.45  27838.36  27689.23  27215.28  991.007433\n",
       "2  2023-05-29  27552.65  28040.51  27736.03  27695.30  502.509372\n",
       "3  2023-05-28  27530.82  28451.62  28081.19  27736.96  673.158599\n",
       "4  2023-05-27  26775.89  28271.94  26859.82  28082.01  712.806237"
      ]
     },
     "execution_count": 30,
     "metadata": {},
     "output_type": "execute_result"
    }
   ],
   "source": [
    "import pandas as pd\n",
    "from datetime import date\n",
    "df_hist_data= pd.DataFrame(BTC_USDT)\n",
    "df_hist_data.columns = [ 'date', 'BTC_low', 'BTC_high', 'BTC_open', 'BTC_close', 'BTC_volume' ]\n",
    "df_hist_data['date']= df_hist_data['date'].apply(lambda x: date.fromtimestamp(x))\n",
    "coin_res = [ETH_USDT, XRP_USDT]\n",
    "coin_names = ['ETH', 'XRP']\n",
    "for coin, name in zip (coin_res, coin_names):\n",
    "    tmp = pd.DataFrame(coin)\n",
    "    tmp.columns = [ 'date', 'low', 'high', 'open', 'close', 'volume' ]\n",
    "df_hist_data.head()"
   ]
  },
  {
   "cell_type": "code",
   "execution_count": null,
   "metadata": {},
   "outputs": [],
   "source": []
  }
 ],
 "metadata": {
  "kernelspec": {
   "display_name": "crypto",
   "language": "python",
   "name": "python3"
  },
  "language_info": {
   "codemirror_mode": {
    "name": "ipython",
    "version": 3
   },
   "file_extension": ".py",
   "mimetype": "text/x-python",
   "name": "python",
   "nbconvert_exporter": "python",
   "pygments_lexer": "ipython3",
   "version": "3.9.18"
  }
 },
 "nbformat": 4,
 "nbformat_minor": 2
}
